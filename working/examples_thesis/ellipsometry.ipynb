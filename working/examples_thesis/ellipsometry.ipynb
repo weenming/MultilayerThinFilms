{
 "cells": [
  {
   "cell_type": "code",
   "execution_count": 1,
   "metadata": {},
   "outputs": [],
   "source": [
    "%load_ext autoreload\n",
    "%autoreload 2\n",
    "import numpy as np\n",
    "import matplotlib.pyplot as plt\n",
    "import matplotlib.cm as cm\n",
    "import sys\n",
    "sys.path.append('./../../designer/script/')\n",
    "sys.path.append('./../')\n",
    "sys.path.append('./../../')\n",
    "from film import TwoMaterialFilm, FreeFormFilm\n",
    "from spectrum import Spectrum\n",
    "from design import BaseDesign, DesignForSpecSimple\n",
    "from optimizer.adam import AdamThicknessOptimizer, AdamFreeFormOptimizer\n",
    "from utils.loss import calculate_RMS_f_spec\n",
    "import os\n",
    "import torch\n",
    "\n",
    "from analyze_utils.structure import plot_layer_thickness\n",
    "import dill\n",
    "import tqdm\n",
    "import copy\n",
    "from mpl_toolkits.axes_grid1 import make_axes_locatable\n"
   ]
  },
  {
   "cell_type": "code",
   "execution_count": null,
   "metadata": {},
   "outputs": [],
   "source": []
  }
 ],
 "metadata": {
  "kernelspec": {
   "display_name": "tfnn",
   "language": "python",
   "name": "python3"
  },
  "language_info": {
   "codemirror_mode": {
    "name": "ipython",
    "version": 3
   },
   "file_extension": ".py",
   "mimetype": "text/x-python",
   "name": "python",
   "nbconvert_exporter": "python",
   "pygments_lexer": "ipython3",
   "version": "3.10.14"
  }
 },
 "nbformat": 4,
 "nbformat_minor": 2
}
