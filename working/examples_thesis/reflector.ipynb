{
 "cells": [
  {
   "cell_type": "code",
   "execution_count": null,
   "metadata": {},
   "outputs": [],
   "source": [
    "%load_ext autoreload\n",
    "%autoreload 2\n",
    "import numpy as np\n",
    "import matplotlib.pyplot as plt\n",
    "import matplotlib.cm as cm\n",
    "import sys\n",
    "sys.path.append('./../../designer/script/')\n",
    "sys.path.append('./../')\n",
    "sys.path.append('./../../')\n",
    "from film import TwoMaterialFilm\n",
    "from spectrum import Spectrum\n",
    "from design import BaseDesign\n",
    "import os\n",
    "import torch\n",
    "\n",
    "from analyze_utils.structure import plot_layer_thickness\n",
    "import dill\n",
    "import tqdm\n"
   ]
  }
 ],
 "metadata": {
  "language_info": {
   "name": "python"
  }
 },
 "nbformat": 4,
 "nbformat_minor": 2
}
