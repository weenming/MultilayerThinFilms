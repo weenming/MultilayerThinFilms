{
 "cells": [
  {
   "cell_type": "code",
   "execution_count": null,
   "metadata": {},
   "outputs": [],
   "source": [
    "%load_ext autoreload\n",
    "%autoreload 2\n",
    "import numpy as np\n",
    "import matplotlib.pyplot as plt\n",
    "import matplotlib.cm as cm\n",
    "import sys\n",
    "sys.path.append('./../../designer/script/')\n",
    "sys.path.append('./../')\n",
    "sys.path.append('./../../')\n",
    "from film import TwoMaterialFilm, FreeFormFilm\n",
    "from spectrum import Spectrum\n",
    "from design import BaseDesign, DesignForSpecSimple\n",
    "import os\n",
    "import torch\n",
    "\n",
    "from analyze_utils.structure import plot_layer_thickness\n",
    "import dill\n",
    "import tqdm\n"
   ]
  },
  {
   "cell_type": "code",
   "execution_count": null,
   "metadata": {},
   "outputs": [],
   "source": [
    "def make_reflection_design(init_film: TwoMaterialFilm):\n",
    "    inc_ang = 0.\n",
    "    # wls = np.linspace(700, 800, 500) # when wls = 50, ~100 min\n",
    "    wls = np.linspace(695, 939, 500) # DBR\n",
    "    R = np.ones(wls.shape[0] , dtype='float')\n",
    "    target_spec = [Spectrum(inc_ang, wls, R)]\n",
    "    \n",
    "    design = DesignForSpecSimple(target_spec, init_film)\n",
    "    return design"
   ]
  }
 ],
 "metadata": {
  "kernelspec": {
   "display_name": "tfnn",
   "language": "python",
   "name": "python3"
  },
  "language_info": {
   "name": "python",
   "version": "3.10.14"
  }
 },
 "nbformat": 4,
 "nbformat_minor": 2
}
