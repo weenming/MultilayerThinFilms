{
 "cells": [
  {
   "cell_type": "code",
   "execution_count": 10,
   "metadata": {},
   "outputs": [
    {
     "name": "stdout",
     "output_type": "stream",
     "text": [
      "The autoreload extension is already loaded. To reload it, use:\n",
      "  %reload_ext autoreload\n"
     ]
    }
   ],
   "source": [
    "%load_ext autoreload\n",
    "%autoreload 2\n",
    "import numpy as np\n",
    "import matplotlib.pyplot as plt\n",
    "import matplotlib.cm as cm\n",
    "import sys\n",
    "sys.path.append('./../../designer/script/')\n",
    "sys.path.append('./../')\n",
    "sys.path.append('./../../')\n",
    "from film import TwoMaterialFilm, FreeFormFilm\n",
    "from spectrum import Spectrum\n",
    "from design import BaseDesign, DesignForSpecSimple\n",
    "from optimizer.adam import AdamThicknessOptimizer, AdamFreeFormOptimizer\n",
    "from utils.loss import calculate_RMS_f_spec\n",
    "import os\n",
    "import torch\n",
    "\n",
    "from analyze_utils.structure import plot_layer_thickness\n",
    "import dill\n",
    "import tqdm\n",
    "\n"
   ]
  },
  {
   "cell_type": "code",
   "execution_count": 55,
   "metadata": {},
   "outputs": [
    {
     "name": "stdout",
     "output_type": "stream",
     "text": [
      "WARNING: not tested!\n"
     ]
    },
    {
     "name": "stderr",
     "output_type": "stream",
     "text": [
      "  1%|          | 1/100 [00:00<00:37,  2.65it/s]"
     ]
    },
    {
     "name": "stdout",
     "output_type": "stream",
     "text": [
      "iter 0, loss 0.6148747689654561\n",
      "Layer removed.\n",
      "WARNING: not tested\n"
     ]
    },
    {
     "name": "stderr",
     "output_type": "stream",
     "text": [
      " 12%|█▏        | 12/100 [00:02<00:12,  6.99it/s]"
     ]
    },
    {
     "name": "stdout",
     "output_type": "stream",
     "text": [
      "iter 10, loss 0.57177675842079\n"
     ]
    },
    {
     "name": "stderr",
     "output_type": "stream",
     "text": [
      " 22%|██▏       | 22/100 [00:03<00:07, 10.50it/s]"
     ]
    },
    {
     "name": "stdout",
     "output_type": "stream",
     "text": [
      "iter 20, loss 0.5461315438460296\n"
     ]
    },
    {
     "name": "stderr",
     "output_type": "stream",
     "text": [
      " 32%|███▏      | 32/100 [00:04<00:06, 11.02it/s]"
     ]
    },
    {
     "name": "stdout",
     "output_type": "stream",
     "text": [
      "iter 30, loss 0.5209057069906826\n"
     ]
    },
    {
     "name": "stderr",
     "output_type": "stream",
     "text": [
      " 42%|████▏     | 42/100 [00:05<00:05, 10.12it/s]"
     ]
    },
    {
     "name": "stdout",
     "output_type": "stream",
     "text": [
      "iter 40, loss 0.4990722939776675\n"
     ]
    },
    {
     "name": "stderr",
     "output_type": "stream",
     "text": [
      " 52%|█████▏    | 52/100 [00:06<00:04, 10.86it/s]"
     ]
    },
    {
     "name": "stdout",
     "output_type": "stream",
     "text": [
      "iter 50, loss 0.4712510887235727\n"
     ]
    },
    {
     "name": "stderr",
     "output_type": "stream",
     "text": [
      " 54%|█████▍    | 54/100 [00:06<00:04, 11.32it/s]"
     ]
    },
    {
     "name": "stdout",
     "output_type": "stream",
     "text": [
      "Layer removed.\n",
      "WARNING: not tested\n"
     ]
    },
    {
     "name": "stderr",
     "output_type": "stream",
     "text": [
      " 56%|█████▌    | 56/100 [00:08<00:15,  2.90it/s]"
     ]
    },
    {
     "name": "stdout",
     "output_type": "stream",
     "text": [
      "Layer removed.\n",
      "WARNING: not tested\n"
     ]
    },
    {
     "name": "stderr",
     "output_type": "stream",
     "text": [
      " 65%|██████▌   | 65/100 [00:09<00:06,  5.05it/s]"
     ]
    },
    {
     "name": "stdout",
     "output_type": "stream",
     "text": [
      "iter 60, loss 0.41814539324780886\n"
     ]
    },
    {
     "name": "stderr",
     "output_type": "stream",
     "text": [
      " 71%|███████   | 71/100 [00:10<00:03,  7.66it/s]"
     ]
    },
    {
     "name": "stdout",
     "output_type": "stream",
     "text": [
      "iter 70, loss 0.32370331754658616\n",
      "Layer removed.\n",
      "WARNING: not tested\n"
     ]
    },
    {
     "name": "stderr",
     "output_type": "stream",
     "text": [
      " 73%|███████▎  | 73/100 [00:12<00:09,  2.84it/s]"
     ]
    },
    {
     "name": "stdout",
     "output_type": "stream",
     "text": [
      "Layer removed.\n",
      "WARNING: not tested\n"
     ]
    },
    {
     "name": "stderr",
     "output_type": "stream",
     "text": [
      " 82%|████████▏ | 82/100 [00:14<00:03,  4.91it/s]"
     ]
    },
    {
     "name": "stdout",
     "output_type": "stream",
     "text": [
      "iter 80, loss 0.2579094425153436\n"
     ]
    },
    {
     "name": "stderr",
     "output_type": "stream",
     "text": [
      " 92%|█████████▏| 92/100 [00:14<00:00,  9.15it/s]"
     ]
    },
    {
     "name": "stdout",
     "output_type": "stream",
     "text": [
      "iter 90, loss 0.22628486311560514\n"
     ]
    },
    {
     "name": "stderr",
     "output_type": "stream",
     "text": [
      "100%|██████████| 100/100 [00:15<00:00,  6.43it/s]\n"
     ]
    },
    {
     "data": {
      "text/plain": [
       "[(<film.TwoMaterialFilm at 0x7fe10e925b40>,), (0.6202290810408689,)]"
      ]
     },
     "execution_count": 55,
     "metadata": {},
     "output_type": "execute_result"
    }
   ],
   "source": [
    "def make_antireflector_design():\n",
    "    inc_angs = np.linspace(40, 80, 2)\n",
    "    # wls = np.linspace(700, 800, 500) # when wls = 50, ~100 min\n",
    "    wls = np.linspace(400, 1200, 500) # DBR\n",
    "    R = np.zeros(wls.shape[0] , dtype='float')\n",
    "\n",
    "    target_spec = [Spectrum(inc_ang, wls, R) for inc_ang in inc_angs]\n",
    "    return target_spec\n",
    "\n",
    "target = make_antireflector_design()\n",
    "\n",
    "np.random.seed(0)\n",
    "d_init = np.random.rand(50) * 100\n",
    "film = TwoMaterialFilm(1.05, 'TiO2', 'Si', d_init)\n",
    "\n",
    "adam = AdamThicknessOptimizer(\n",
    "    film, \n",
    "    target, \n",
    "    max_steps=100, \n",
    "    remove_nonpos_during_optm=True, \n",
    "    show=True, \n",
    "    show_condition=lambda i: i % 10 == 0, \n",
    "    alpha=1, \n",
    "    # record=lambda i: i == 1999\n",
    ")\n",
    "\n",
    "adam.optimize()"
   ]
  },
  {
   "cell_type": "code",
   "execution_count": null,
   "metadata": {},
   "outputs": [],
   "source": [
    "from mpl_toolkits.axes_grid1 import make_axes_locatable\n",
    "\n",
    "fig, axes = plt.subplots(2, 1, gridspec_kw={'height_ratios': (5, 1), 'hspace': 0.5})\n",
    "\n",
    "film_specs = [film.get_spec(inc_ang=inc_ang, wls=np.linspace(400, 1200, 500)) for inc_ang in np.linspace(40., 80., 100)]\n",
    "r_spec = np.array([film_spec.get_R() for film_spec in film_specs])\n",
    "\n",
    "ax = axes[0]\n",
    "im = ax.imshow(\n",
    "    r_spec, \n",
    "    cmap='coolwarm', \n",
    "    aspect='auto', \n",
    "    extent=[400., 1200., 80., 40.], \n",
    "    vmax=0.2, \n",
    "    vmin=0\n",
    ")\n",
    "ax.invert_yaxis()\n",
    "\n",
    "# colorbar\n",
    "divider = make_axes_locatable(ax)\n",
    "cax = divider.append_axes('right', size='5%', pad=0.05)\n",
    "fig.colorbar(im, cax=cax, orientation='vertical', label='R')\n",
    "\n",
    "ax.set_title(f'MSE: {calculate_RMS_f_spec(film, target): .5f}, final layer number: {film.get_layer_number()}')\n",
    "\n",
    "# print(film.get_layer_number())\n",
    "# film.remove_negative_thickness_layer(zero=10)\n",
    "# print(film.get_layer_number())\n",
    "# ax.plot(film.get_spec().WLS, film.get_spec().get_R(), label='After removal')\n",
    "\n",
    "ax.set_xlabel('Wavelength / nm')\n",
    "ax.set_ylabel('Incident angle / deg')\n",
    "fig.set_size_inches(5, 3)\n",
    "\n",
    "plot_layer_thickness(film, ax=axes[1])\n",
    "axes[1].set_ylabel('n')\n",
    "axes[1].set_xlabel('Thickness / nm')\n",
    "\n",
    "fig.set_size_inches(5, 6)"
   ]
  },
  {
   "cell_type": "code",
   "execution_count": null,
   "metadata": {},
   "outputs": [],
   "source": []
  }
 ],
 "metadata": {
  "kernelspec": {
   "display_name": "tfnn",
   "language": "python",
   "name": "python3"
  },
  "language_info": {
   "codemirror_mode": {
    "name": "ipython",
    "version": 3
   },
   "file_extension": ".py",
   "mimetype": "text/x-python",
   "name": "python",
   "nbconvert_exporter": "python",
   "pygments_lexer": "ipython3",
   "version": "3.10.14"
  }
 },
 "nbformat": 4,
 "nbformat_minor": 2
}
