{
 "cells": [
  {
   "cell_type": "code",
   "execution_count": 2,
   "metadata": {},
   "outputs": [],
   "source": [
    "import numpy as np\n",
    "import matplotlib.pyplot as plt\n",
    "import sys\n",
    "sys.path.append('./../../../designer/script/')\n",
    "sys.path.append('./../../')\n",
    "sys.path.append('./../../../')\n",
    "# framework\n",
    "from design import BaseDesign\n",
    "from film import TwoMaterialFilm\n",
    "from spectrum import Spectrum\n",
    "from analyze_utils.make_design import get_edge_filter_design\n",
    "# optimizer\n",
    "from optimizer.archive.LM_gradient_descent import LM_optimize_d_simple\n",
    "from optimizer.adam import AdamThicknessOptimizer\n",
    "# others\n",
    "import copy\n",
    "import pickle\n",
    "from analyze_utils.color import cold_qualitative, qualitative\n"
   ]
  },
  {
   "cell_type": "code",
   "execution_count": 4,
   "metadata": {},
   "outputs": [
    {
     "name": "stderr",
     "output_type": "stream",
     "text": [
      "c:\\Users\\rfeng6\\.conda\\envs\\tf_design\\lib\\site-packages\\numba\\cuda\\dispatcher.py:488: NumbaPerformanceWarning: \u001b[1mGrid size 32 will likely result in GPU under-utilization due to low occupancy.\u001b[0m\n",
      "  warn(NumbaPerformanceWarning(msg))\n",
      "c:\\Users\\rfeng6\\.conda\\envs\\tf_design\\lib\\site-packages\\numba\\cuda\\dispatcher.py:488: NumbaPerformanceWarning: \u001b[1mGrid size 32 will likely result in GPU under-utilization due to low occupancy.\u001b[0m\n",
      "  warn(NumbaPerformanceWarning(msg))\n"
     ]
    }
   ],
   "source": [
    "wls = np.linspace(400, 1000, 500)\n",
    "target_spec = get_edge_filter_design(inc=0., wls=wls)\n",
    "\n",
    "show = False\n",
    "\n",
    "def convergence(layers, max_step, optimizer, seed):\n",
    "    # make design for adam\n",
    "    total_gt = 3000\n",
    "    np.random.seed(seed)\n",
    "    init_film = TwoMaterialFilm('SiO2', 'TiO2', 'SiO2', np.random.random(layers) * total_gt / layers)\n",
    "    \n",
    "    # use the same seed\n",
    "    # np.random.seed(0)\n",
    "    # target_film = TwoMaterialFilm('SiO2', 'TiO2', 'SiO2', np.random.random(100) * total_gt / 10)\n",
    "    # target_film.add_spec_param(0., wls)\n",
    "    # target_film.calculate_spectrum()\n",
    "    # target_spec = target_film.get_all_spec_list()[0]\n",
    "    \n",
    "    design_adam = BaseDesign([target_spec], init_film)\n",
    "\n",
    "    if optimizer == 'adam':\n",
    "        adam_optimizer = AdamThicknessOptimizer(design_adam.film, [target_spec], max_step, alpha=1, record=True, show=show)\n",
    "        _, losses = adam_optimizer.optimize()\n",
    "\n",
    "    if optimizer == 'LM':\n",
    "        design_LM = BaseDesign([target_spec], copy.deepcopy(design_adam.init_film))\n",
    "        steps, losses = LM_optimize_d_simple(design_LM.film, [target_spec], h_tol=1e-200, max_step=max_step, record=True, show=show)\n",
    "\n",
    "    return losses\n",
    "\n",
    "def rep(layers, max_step, rep_num = 5):\n",
    "    losses_LM = []\n",
    "    losses_adam = []\n",
    "    for i in range(rep_num):\n",
    "        losses_LM.append(convergence(layers, max_step, 'LM', i))\n",
    "        losses_adam.append(convergence(layers, max_step, 'adam', i))\n",
    "\n",
    "    # fill early stopped ls with last value\n",
    "    for reps in losses_LM:\n",
    "        if len(reps) < max_step + 1:\n",
    "            reps += [reps[-1]] * (max_step + 1 - len(reps))\n",
    "            \n",
    "    losses_LM = np.array(losses_LM)\n",
    "    losses_adam = np.array(losses_adam)\n",
    "    return losses_LM, losses_adam\n",
    "\n",
    "losses_LM, losses_adam = rep(10, 2000, rep_num=1)\n"
   ]
  },
  {
   "cell_type": "code",
   "execution_count": 12,
   "metadata": {},
   "outputs": [
    {
     "data": {
      "text/plain": [
       "(0.0, 500.0)"
      ]
     },
     "execution_count": 12,
     "metadata": {},
     "output_type": "execute_result"
    }
   ],
   "source": [
    "def plot(ax, y_arr, x=None, alpha=0.3, **kwargs):\n",
    "    if x is None:\n",
    "        x = np.arange(np.array(y_arr).shape[1])\n",
    "    if type(y_arr) is list:\n",
    "        y_arr = np.array(y_arr)\n",
    "\n",
    "    ax.plot(x, y_arr.mean(0), **kwargs)\n",
    "\n",
    "    means = y_arr.mean(0)\n",
    "    stds = y_arr.std(0)\n",
    "    \n",
    "    ax.fill_between(x, means + stds, means - stds, alpha=alpha, **kwargs)\n",
    "\n",
    "with plt.style.context('bmh'):\n",
    "    fig, ax = plt.subplots(1, 1)\n",
    "\n",
    "plot(ax, losses_adam, label='Adam optimizer', color=qualitative()[2], alpha=0.3, zorder=10)\n",
    "plot(ax, losses_LM, label='LM optimizer', color=qualitative()[0], alpha=0.2)\n",
    "\n",
    "ax.legend(loc='upper right')\n",
    "ax.set_yscale('log')\n",
    "ax.set_xlabel('update steps')\n",
    "ax.set_ylabel('loss')\n",
    "ax.set_xlim(0, 500)\n",
    "# ax.set_ylim(5e-2, 5e-1)\n"
   ]
  },
  {
   "cell_type": "code",
   "execution_count": null,
   "metadata": {},
   "outputs": [],
   "source": []
  }
 ],
 "metadata": {
  "kernelspec": {
   "display_name": "Python 3",
   "language": "python",
   "name": "python3"
  },
  "language_info": {
   "codemirror_mode": {
    "name": "ipython",
    "version": 3
   },
   "file_extension": ".py",
   "mimetype": "text/x-python",
   "name": "python",
   "nbconvert_exporter": "python",
   "pygments_lexer": "ipython3",
   "version": "3.10.12"
  },
  "orig_nbformat": 4
 },
 "nbformat": 4,
 "nbformat_minor": 2
}
