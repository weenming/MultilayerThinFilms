{
 "cells": [
  {
   "cell_type": "code",
   "execution_count": null,
   "metadata": {},
   "outputs": [
    {
     "ename": "",
     "evalue": "",
     "output_type": "error",
     "traceback": [
      "\u001b[1;31mRunning cells with '/usr/bin/python3' requires the ipykernel package.\n",
      "\u001b[1;31mRun the following command to install 'ipykernel' into the Python environment. \n",
      "\u001b[1;31mCommand: '/usr/bin/python3 -m pip install ipykernel -U --user --force-reinstall'"
     ]
    }
   ],
   "source": [
    "import sys\n",
    "sys.path.append('./')\n",
    "sys.path.append('./../../../../')\n",
    "sys.path.append('./../../../../designer')\n",
    "sys.path.append('./../../../../designer/script')\n",
    "\n",
    "from spectrum import Spectrum\n",
    "from film import TwoMaterialFilm\n",
    "from optimizer.adam import AdamThicknessOptimizer\n",
    "from optimizer.archive.LM_gradient_descent import LM_optimize_d_simple\n",
    "from design import BaseDesign\n",
    "\n",
    "from utils.substitute import optimal_and_thin_film_approx_substitution_onestep_new, equal_optical_thickness\n",
    "\n",
    "import numpy as np\n",
    "import matplotlib.pyplot as plt\n",
    "import copy"
   ]
  },
  {
   "cell_type": "code",
   "execution_count": 2,
   "metadata": {},
   "outputs": [],
   "source": [
    "wls = np.linspace(400, 700, 300)\n",
    "wls_more = np.linspace(390, 710, 320)\n",
    "\n",
    "target_spec_params = 20., wls\n",
    "target = Spectrum(*target_spec_params, np.ones_like(wls))\n",
    "\n",
    "d_init = np.loadtxt('./before')\n",
    "d_eqot_benchmark = np.loadtxt('./after')\n",
    "\n",
    "\n",
    "film_init = TwoMaterialFilm('Ta2O5_xc', 'SiO2_xc', 'MgF2_xc', d_init)\n",
    "# xc\n",
    "film_eqot_benchmark = TwoMaterialFilm('SiO2_xc', 'Ta2O5_xc', 'MgF2_xc', d_eqot_benchmark)\n",
    "# ours\n",
    "film_eqot = copy.deepcopy(film_init)\n",
    "film_optim = copy.deepcopy(film_init)\n",
    "\n",
    "\n",
    "all_films = [film_init, film_eqot_benchmark, film_eqot, film_optim]\n",
    "for film in all_films:\n",
    "    film.add_spec_param(*target_spec_params)"
   ]
  },
  {
   "cell_type": "code",
   "execution_count": 3,
   "metadata": {},
   "outputs": [
    {
     "name": "stderr",
     "output_type": "stream",
     "text": [
      "/root/Thin-Film-Design/working/review/substitution/anti_reflector/./../../../../designer/script/utils/substitute.py:21: ComplexWarning: Casting complex values to real discards the imaginary part\n",
      "  d[i - 1] += optical_ratio * d[i] + d[i + 1]\n"
     ]
    },
    {
     "data": {
      "text/plain": [
       "1"
      ]
     },
     "execution_count": 3,
     "metadata": {},
     "output_type": "execute_result"
    }
   ],
   "source": [
    "# w/o GD. NOTE: need to wait for compilation of CUDA at first run\n",
    "equal_optical_thickness(film_eqot, 5.)\n",
    "# optimal_and_thin_film_approx_substitution_onestep_new(film_optim, 5.)"
   ]
  },
  {
   "cell_type": "code",
   "execution_count": 30,
   "metadata": {},
   "outputs": [],
   "source": [
    "fig, ax = plt.subplots(1, 1)\n",
    "\n",
    "ax.plot(wls, film_init.get_spec().get_T(), label='w/ thin layer')\n",
    "ax.plot(wls, film_eqot_benchmark.get_spec().get_T(), label='eq ot -- xc')\n",
    "ax.plot(wls, film_eqot.get_spec().get_T(), label='eq ot')\n",
    "ax.plot(wls, film_optim.get_spec().get_T(), label='optim')\n"
   ]
  },
  {
   "cell_type": "code",
   "execution_count": null,
   "metadata": {},
   "outputs": [],
   "source": []
  }
 ],
 "metadata": {
  "kernelspec": {
   "display_name": "tf_design_2",
   "language": "python",
   "name": "python3"
  },
  "language_info": {
   "codemirror_mode": {
    "name": "ipython",
    "version": 3
   },
   "file_extension": ".py",
   "mimetype": "text/x-python",
   "name": "python",
   "nbconvert_exporter": "python",
   "pygments_lexer": "ipython3",
   "version": "3.6.9"
  },
  "orig_nbformat": 4
 },
 "nbformat": 4,
 "nbformat_minor": 2
}
