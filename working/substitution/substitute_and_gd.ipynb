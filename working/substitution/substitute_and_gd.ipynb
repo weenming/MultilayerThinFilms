{
 "cells": [
  {
   "cell_type": "code",
   "execution_count": null,
   "metadata": {},
   "outputs": [],
   "source": [
    "import numpy as np\n",
    "import matplotlib.pyplot as plt\n",
    "import copy\n",
    "import pickle\n",
    "\n",
    "import sys\n",
    "sys.path.append('./')\n",
    "sys.path.append('./../../designer/script')\n",
    "\n",
    "from optimizer.adam import AdamFreeFormOptimizer\n",
    "from "
   ]
  }
 ],
 "metadata": {
  "language_info": {
   "name": "python"
  },
  "orig_nbformat": 4
 },
 "nbformat": 4,
 "nbformat_minor": 2
}
