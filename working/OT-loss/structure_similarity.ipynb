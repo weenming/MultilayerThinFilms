{
 "cells": [
  {
   "cell_type": "code",
   "execution_count": 1,
   "metadata": {},
   "outputs": [],
   "source": [
    "import sys\n",
    "sys.path.append('./../../designer/script/')\n",
    "from gets.get_spectrum import get_spectrum_simple\n",
    "from design import DesignSimple\n",
    "from film import FilmSimple\n",
    "from spectrum import SpectrumSimple\n",
    "from utils.plot_spectrum import plot_spectrum\n",
    "import numpy as np\n",
    "import copy\n",
    "from utils.loss import calculate_RMS\n",
    "import matplotlib.pyplot as plt\n",
    "\n",
    "# Initialize: config for TML\n",
    "WLS = np.linspace(500, 1000, 500)\n",
    "INC_ANG = 60.\n",
    "wl = 750. # wl used for calculating OT\n",
    "\n",
    "def plot_film(f: FilmSimple):\n",
    "    f.add_spec_param(INC_ANG, WLS)\n",
    "    spec_target = f.get_spec()\n",
    "    spec_target.calculate() # compile cuda kernel func\n",
    "    plot_spectrum(spec_target)\n",
    "\n",
    "np.random.seed(1)\n",
    "f_target = FilmSimple(\"SiO2\", \"TiO2\", \"SiO2\", np.random.random(30) * 100) # target film for TML\n"
   ]
  },
  {
   "cell_type": "code",
   "execution_count": null,
   "metadata": {},
   "outputs": [],
   "source": [
    "def "
   ]
  }
 ],
 "metadata": {
  "kernelspec": {
   "display_name": "Python 3.8.16 ('cuda')",
   "language": "python",
   "name": "python3"
  },
  "language_info": {
   "codemirror_mode": {
    "name": "ipython",
    "version": 3
   },
   "file_extension": ".py",
   "mimetype": "text/x-python",
   "name": "python",
   "nbconvert_exporter": "python",
   "pygments_lexer": "ipython3",
   "version": "3.8.16"
  },
  "orig_nbformat": 4,
  "vscode": {
   "interpreter": {
    "hash": "99323d5a8e602150fc5547383fe7b71b247ac62304d4d5fb5a3f3a77ad4b3dc1"
   }
  }
 },
 "nbformat": 4,
 "nbformat_minor": 2
}
