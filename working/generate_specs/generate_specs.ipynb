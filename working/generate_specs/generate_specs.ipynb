{
 "cells": [
  {
   "cell_type": "code",
   "execution_count": 2,
   "metadata": {},
   "outputs": [
    {
     "name": "stdout",
     "output_type": "stream",
     "text": [
      "[326.99617661  19.44467387 412.24685841 326.49179446]\n"
     ]
    }
   ],
   "source": [
    "import sys\n",
    "sys.path.append('./../../designer/script/')\n",
    "from gets.get_spectrum import get_spectrum_simple\n",
    "from film import FilmSimple\n",
    "from spectrum import SpectrumSimple\n",
    "from utils.plot_spectrum import plot_spectrum\n",
    "import numpy as np\n",
    "import copy\n",
    "import matplotlib.pyplot as plt\n",
    "\n",
    "WLS = np.linspace(500, 1000, 500)\n",
    "INC_ANG = 60.\n",
    "layer_number = 4\n",
    "seed = 2\n",
    "\n",
    "np.random.seed(seed)\n",
    "d = np.random.random(layer_number) * 3000 / layer_number\n",
    "print(d)\n",
    "f = FilmSimple('SiO2', 'TiO2', 'SiO2', d)\n",
    "f.add_spec_param(INC_ANG, WLS)\n",
    "f.calculate_spectrum()\n",
    "spec = f.get_spec().get_R()\n",
    "\n",
    "np.savetxt(f\"generaetd_spectrum-INC_ANG{INC_ANG}-WLS{WLS[0]}to{WLS[-1]}-R_{layer_number}layers_seed{seed}.txt\", spec)\n",
    "plt.plot(spec)\n",
    "\n"
   ]
  },
  {
   "cell_type": "code",
   "execution_count": 2,
   "metadata": {},
   "outputs": [
    {
     "name": "stdout",
     "output_type": "stream",
     "text": [
      "n TiO2 at 750 nm (2.5334627507835505+0j)\n",
      "n SiO2 at 750 nm (1.5393841396519676+0j)\n",
      "(2075.4454912796805+0j)\n"
     ]
    }
   ],
   "source": [
    "print(\"n TiO2 at 750 nm\", f.get_spec().n[250, 1])\n",
    "print(\"n SiO2 at 750 nm\", f.get_spec().n[250, 0])\n",
    "print(f.get_optical_thickness(750))"
   ]
  }
 ],
 "metadata": {
  "kernelspec": {
   "display_name": "Python 3.9.16 ('cuda')",
   "language": "python",
   "name": "python3"
  },
  "language_info": {
   "codemirror_mode": {
    "name": "ipython",
    "version": 3
   },
   "file_extension": ".py",
   "mimetype": "text/x-python",
   "name": "python",
   "nbconvert_exporter": "python",
   "pygments_lexer": "ipython3",
   "version": "3.9.16"
  },
  "orig_nbformat": 4,
  "vscode": {
   "interpreter": {
    "hash": "99323d5a8e602150fc5547383fe7b71b247ac62304d4d5fb5a3f3a77ad4b3dc1"
   }
  }
 },
 "nbformat": 4,
 "nbformat_minor": 2
}
