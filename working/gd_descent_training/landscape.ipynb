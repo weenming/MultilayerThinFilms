{
 "cells": [
  {
   "cell_type": "code",
   "execution_count": 7,
   "metadata": {},
   "outputs": [],
   "source": [
    "import numpy as np\n",
    "import matplotlib.pyplot as plt\n",
    "import sys\n",
    "sys.path.append('./../../designer/script/')\n",
    "sys.path.append('./../')\n",
    "sys.path.append('./../../')\n",
    "\n",
    "from design import Design\n",
    "from film import FilmSimple\n",
    "from spectrum import Spectrum\n",
    "from optimizer.LM_gradient_descent import LM_optimize_d_simple\n",
    "from optimizer.adam import adam_optimize\n",
    "import copy\n",
    "from utils.loss import calculate_RMS\n",
    "import pickle\n",
    "import designer\n",
    "from analyze_utils.structure import plot_layer_thickness\n",
    "\n",
    "\n",
    "inc_ang = 0.\n",
    "wls = np.linspace(400, 1000, 500)"
   ]
  },
  {
   "cell_type": "code",
   "execution_count": 27,
   "metadata": {},
   "outputs": [
    {
     "name": "stdout",
     "output_type": "stream",
     "text": [
      "dim 5, rep 0\n",
      "dim 5, rep 1\n",
      "dim 5, rep 2\n",
      "dim 5, rep 3\n",
      "dim 5, rep 4\n"
     ]
    },
    {
     "ename": "KeyboardInterrupt",
     "evalue": "",
     "output_type": "error",
     "traceback": [
      "\u001b[1;31m---------------------------------------------------------------------------\u001b[0m",
      "\u001b[1;31mKeyboardInterrupt\u001b[0m                         Traceback (most recent call last)",
      "Cell \u001b[1;32mIn[27], line 41\u001b[0m\n\u001b[0;32m     39\u001b[0m loss, std \u001b[39m=\u001b[39m [], []\n\u001b[0;32m     40\u001b[0m \u001b[39mfor\u001b[39;00m N \u001b[39min\u001b[39;00m [\u001b[39m5\u001b[39m, \u001b[39m10\u001b[39m, \u001b[39m50\u001b[39m, \u001b[39m100\u001b[39m]:\n\u001b[1;32m---> 41\u001b[0m     cur_loss, cur_std \u001b[39m=\u001b[39m make_pert(\u001b[39m5\u001b[39;49m, show\u001b[39m=\u001b[39;49m\u001b[39mTrue\u001b[39;49;00m, c\u001b[39m=\u001b[39;49m\u001b[39m'\u001b[39;49m\u001b[39mC0\u001b[39;49m\u001b[39m'\u001b[39;49m)\n\u001b[0;32m     42\u001b[0m     loss\u001b[39m.\u001b[39mappend(cur_loss)\n\u001b[0;32m     43\u001b[0m     std\u001b[39m.\u001b[39mappend(cur_std)\n",
      "Cell \u001b[1;32mIn[27], line 31\u001b[0m, in \u001b[0;36mmake_pert\u001b[1;34m(dim, rep_num, show, c, budgets)\u001b[0m\n\u001b[0;32m     25\u001b[0m film, film_pert \u001b[39m=\u001b[39m make_random_film(dim, budget, seed\u001b[39m=\u001b[39mrep)\n\u001b[0;32m     27\u001b[0m \u001b[39m# plot_layer_thickness(film)\u001b[39;00m\n\u001b[0;32m     28\u001b[0m \u001b[39m# plot_layer_thickness(film_pert)\u001b[39;00m\n\u001b[0;32m     29\u001b[0m \n\u001b[0;32m     30\u001b[0m \u001b[39m# print(f'before: loss={calculate_RMS(film, film_pert)}')\u001b[39;00m\n\u001b[1;32m---> 31\u001b[0m adam_optimize(film_pert, [film\u001b[39m.\u001b[39;49mget_spec()], \u001b[39m100\u001b[39;49m, alpha\u001b[39m=\u001b[39;49m\u001b[39m1\u001b[39;49m)\n\u001b[0;32m     32\u001b[0m \u001b[39m# print(f'after: loss={calculate_RMS(film, film_pert)}')\u001b[39;00m\n\u001b[0;32m     33\u001b[0m losses[\u001b[39m-\u001b[39m\u001b[39m1\u001b[39m]\u001b[39m.\u001b[39mappend(calculate_RMS(film, film_pert))\n",
      "File \u001b[1;32mc:\\Users\\rfeng6\\Desktop\\TFNN\\Thin-Film-Design\\working\\gd_descent_training\\./../../designer/script\\optimizer\\adam.py:40\u001b[0m, in \u001b[0;36madam_optimize\u001b[1;34m(film, target_spec_ls, max_steps, alpha, beta1, beta2, epsilon, record, show)\u001b[0m\n\u001b[0;32m     38\u001b[0m \u001b[39mfor\u001b[39;00m t \u001b[39min\u001b[39;00m \u001b[39mrange\u001b[39m(max_steps):\n\u001b[0;32m     39\u001b[0m     stack_J(J, n_arrs_ls, d, target_spec_ls, MAX_LAYER_NUMBER\u001b[39m=\u001b[39m\u001b[39m250\u001b[39m)\n\u001b[1;32m---> 40\u001b[0m     stack_f(f, n_arrs_ls, d, target_spec_ls, target_spec)\n\u001b[0;32m     42\u001b[0m     g \u001b[39m=\u001b[39m J\u001b[39m.\u001b[39mT \u001b[39m@\u001b[39m f\n\u001b[0;32m     43\u001b[0m     m \u001b[39m=\u001b[39m beta1 \u001b[39m*\u001b[39m m \u001b[39m+\u001b[39m (\u001b[39m1\u001b[39m \u001b[39m-\u001b[39m beta1) \u001b[39m*\u001b[39m g\n",
      "File \u001b[1;32mc:\\Users\\rfeng6\\Desktop\\TFNN\\Thin-Film-Design\\working\\gd_descent_training\\./../../designer/script\\optimizer\\grad_helper.py:59\u001b[0m, in \u001b[0;36mstack_f\u001b[1;34m(f_old, n_arrs_ls, d, target_spec_ls, target_spec, get_f)\u001b[0m\n\u001b[0;32m     57\u001b[0m     wls_num \u001b[39m=\u001b[39m s\u001b[39m.\u001b[39mWLS\u001b[39m.\u001b[39mshape[\u001b[39m0\u001b[39m] \u001b[39m*\u001b[39m \u001b[39m2\u001b[39m \u001b[39m# R and T\u001b[39;00m\n\u001b[0;32m     58\u001b[0m     \u001b[39m# note that numpy array slicing does not allocate new space in memory\u001b[39;00m\n\u001b[1;32m---> 59\u001b[0m     get_f(\n\u001b[0;32m     60\u001b[0m         f_old[wl_idx: wl_idx \u001b[39m+\u001b[39;49m wls_num],\n\u001b[0;32m     61\u001b[0m         s\u001b[39m.\u001b[39;49mWLS,\n\u001b[0;32m     62\u001b[0m         d,\n\u001b[0;32m     63\u001b[0m         n_arrs[\u001b[39m0\u001b[39;49m],\n\u001b[0;32m     64\u001b[0m         n_arrs[\u001b[39m1\u001b[39;49m], \u001b[39m# n_sub\u001b[39;49;00m\n\u001b[0;32m     65\u001b[0m         n_arrs[\u001b[39m2\u001b[39;49m], \u001b[39m# n_inc\u001b[39;49;00m\n\u001b[0;32m     66\u001b[0m         s\u001b[39m.\u001b[39;49mINC_ANG\n\u001b[0;32m     67\u001b[0m     )\n\u001b[0;32m     68\u001b[0m     wl_idx \u001b[39m+\u001b[39m\u001b[39m=\u001b[39m wls_num\n\u001b[0;32m     70\u001b[0m f_old[:] \u001b[39m=\u001b[39m f_old \u001b[39m-\u001b[39m target_spec \u001b[39m# should not create new arr.\u001b[39;00m\n",
      "File \u001b[1;32mc:\\Users\\rfeng6\\Desktop\\TFNN\\Thin-Film-Design\\working\\gd_descent_training\\./../../designer/script\\gets\\get_spectrum.py:54\u001b[0m, in \u001b[0;36mget_spectrum_simple\u001b[1;34m(spectrum, wls, d, n_layers, n_sub, n_inc, inc_ang)\u001b[0m\n\u001b[0;32m     52\u001b[0m wls_device \u001b[39m=\u001b[39m cuda\u001b[39m.\u001b[39mto_device(wls)\n\u001b[0;32m     53\u001b[0m \u001b[39m# d.astype('float64')\u001b[39;00m\n\u001b[1;32m---> 54\u001b[0m d_device \u001b[39m=\u001b[39m cuda\u001b[39m.\u001b[39;49mto_device(d)\n\u001b[0;32m     55\u001b[0m \u001b[39m# copy 2d arr into 1d as contiguous arr to save data transfer\u001b[39;00m\n\u001b[0;32m     56\u001b[0m \u001b[39m# BUG: this may be problematic. If the matrix it is copying from is row first\u001b[39;00m\n\u001b[0;32m     57\u001b[0m \u001b[39m# This copy would result in a new array full of \"holes\" which the kernel func\u001b[39;00m\n\u001b[0;32m     58\u001b[0m \u001b[39m# may not be aware of.\u001b[39;00m\n\u001b[0;32m     59\u001b[0m n_A \u001b[39m=\u001b[39m n_layers[:, \u001b[39m0\u001b[39m]\u001b[39m.\u001b[39mcopy()\n",
      "File \u001b[1;32mc:\\Users\\rfeng6\\.conda\\envs\\cuda\\lib\\site-packages\\numba\\cuda\\cudadrv\\devices.py:232\u001b[0m, in \u001b[0;36mrequire_context.<locals>._require_cuda_context\u001b[1;34m(*args, **kws)\u001b[0m\n\u001b[0;32m    229\u001b[0m \u001b[39m@functools\u001b[39m\u001b[39m.\u001b[39mwraps(fn)\n\u001b[0;32m    230\u001b[0m \u001b[39mdef\u001b[39;00m \u001b[39m_require_cuda_context\u001b[39m(\u001b[39m*\u001b[39margs, \u001b[39m*\u001b[39m\u001b[39m*\u001b[39mkws):\n\u001b[0;32m    231\u001b[0m     \u001b[39mwith\u001b[39;00m _runtime\u001b[39m.\u001b[39mensure_context():\n\u001b[1;32m--> 232\u001b[0m         \u001b[39mreturn\u001b[39;00m fn(\u001b[39m*\u001b[39margs, \u001b[39m*\u001b[39m\u001b[39m*\u001b[39mkws)\n",
      "File \u001b[1;32mc:\\Users\\rfeng6\\.conda\\envs\\cuda\\lib\\site-packages\\numba\\cuda\\api.py:120\u001b[0m, in \u001b[0;36mto_device\u001b[1;34m(obj, stream, copy, to)\u001b[0m\n\u001b[0;32m     90\u001b[0m \u001b[39m\u001b[39m\u001b[39m\"\"\"to_device(obj, stream=0, copy=True, to=None)\u001b[39;00m\n\u001b[0;32m     91\u001b[0m \n\u001b[0;32m     92\u001b[0m \u001b[39mAllocate and transfer a numpy ndarray or structured scalar to the device.\u001b[39;00m\n\u001b[1;32m   (...)\u001b[0m\n\u001b[0;32m    117\u001b[0m \u001b[39m    hary = d_ary.copy_to_host(stream=stream)\u001b[39;00m\n\u001b[0;32m    118\u001b[0m \u001b[39m\"\"\"\u001b[39;00m\n\u001b[0;32m    119\u001b[0m \u001b[39mif\u001b[39;00m to \u001b[39mis\u001b[39;00m \u001b[39mNone\u001b[39;00m:\n\u001b[1;32m--> 120\u001b[0m     to, new \u001b[39m=\u001b[39m devicearray\u001b[39m.\u001b[39;49mauto_device(obj, stream\u001b[39m=\u001b[39;49mstream, copy\u001b[39m=\u001b[39;49mcopy,\n\u001b[0;32m    121\u001b[0m                                       user_explicit\u001b[39m=\u001b[39;49m\u001b[39mTrue\u001b[39;49;00m)\n\u001b[0;32m    122\u001b[0m     \u001b[39mreturn\u001b[39;00m to\n\u001b[0;32m    123\u001b[0m \u001b[39mif\u001b[39;00m copy:\n",
      "File \u001b[1;32mc:\\Users\\rfeng6\\.conda\\envs\\cuda\\lib\\site-packages\\numba\\cuda\\cudadrv\\devicearray.py:875\u001b[0m, in \u001b[0;36mauto_device\u001b[1;34m(obj, stream, copy, user_explicit)\u001b[0m\n\u001b[0;32m    870\u001b[0m     obj \u001b[39m=\u001b[39m np\u001b[39m.\u001b[39marray(\n\u001b[0;32m    871\u001b[0m         obj,\n\u001b[0;32m    872\u001b[0m         copy\u001b[39m=\u001b[39m\u001b[39mFalse\u001b[39;00m,\n\u001b[0;32m    873\u001b[0m         subok\u001b[39m=\u001b[39m\u001b[39mTrue\u001b[39;00m)\n\u001b[0;32m    874\u001b[0m     sentry_contiguous(obj)\n\u001b[1;32m--> 875\u001b[0m     devobj \u001b[39m=\u001b[39m from_array_like(obj, stream\u001b[39m=\u001b[39;49mstream)\n\u001b[0;32m    876\u001b[0m \u001b[39mif\u001b[39;00m copy:\n\u001b[0;32m    877\u001b[0m     \u001b[39mif\u001b[39;00m config\u001b[39m.\u001b[39mCUDA_WARN_ON_IMPLICIT_COPY:\n",
      "File \u001b[1;32mc:\\Users\\rfeng6\\.conda\\envs\\cuda\\lib\\site-packages\\numba\\cuda\\cudadrv\\devicearray.py:796\u001b[0m, in \u001b[0;36mfrom_array_like\u001b[1;34m(ary, stream, gpu_data)\u001b[0m\n\u001b[0;32m    794\u001b[0m \u001b[39mdef\u001b[39;00m \u001b[39mfrom_array_like\u001b[39m(ary, stream\u001b[39m=\u001b[39m\u001b[39m0\u001b[39m, gpu_data\u001b[39m=\u001b[39m\u001b[39mNone\u001b[39;00m):\n\u001b[0;32m    795\u001b[0m     \u001b[39m\"\u001b[39m\u001b[39mCreate a DeviceNDArray object that is like ary.\u001b[39m\u001b[39m\"\u001b[39m\n\u001b[1;32m--> 796\u001b[0m     \u001b[39mreturn\u001b[39;00m DeviceNDArray(ary\u001b[39m.\u001b[39;49mshape, ary\u001b[39m.\u001b[39;49mstrides, ary\u001b[39m.\u001b[39;49mdtype, stream\u001b[39m=\u001b[39;49mstream,\n\u001b[0;32m    797\u001b[0m                          gpu_data\u001b[39m=\u001b[39;49mgpu_data)\n",
      "File \u001b[1;32mc:\\Users\\rfeng6\\.conda\\envs\\cuda\\lib\\site-packages\\numba\\cuda\\cudadrv\\devicearray.py:103\u001b[0m, in \u001b[0;36mDeviceNDArrayBase.__init__\u001b[1;34m(self, shape, strides, dtype, stream, gpu_data)\u001b[0m\n\u001b[0;32m    100\u001b[0m \u001b[39mif\u001b[39;00m gpu_data \u001b[39mis\u001b[39;00m \u001b[39mNone\u001b[39;00m:\n\u001b[0;32m    101\u001b[0m     \u001b[39mself\u001b[39m\u001b[39m.\u001b[39malloc_size \u001b[39m=\u001b[39m _driver\u001b[39m.\u001b[39mmemory_size_from_info(\n\u001b[0;32m    102\u001b[0m         \u001b[39mself\u001b[39m\u001b[39m.\u001b[39mshape, \u001b[39mself\u001b[39m\u001b[39m.\u001b[39mstrides, \u001b[39mself\u001b[39m\u001b[39m.\u001b[39mdtype\u001b[39m.\u001b[39mitemsize)\n\u001b[1;32m--> 103\u001b[0m     gpu_data \u001b[39m=\u001b[39m devices\u001b[39m.\u001b[39;49mget_context()\u001b[39m.\u001b[39;49mmemalloc(\u001b[39mself\u001b[39;49m\u001b[39m.\u001b[39;49malloc_size)\n\u001b[0;32m    104\u001b[0m \u001b[39melse\u001b[39;00m:\n\u001b[0;32m    105\u001b[0m     \u001b[39mself\u001b[39m\u001b[39m.\u001b[39malloc_size \u001b[39m=\u001b[39m _driver\u001b[39m.\u001b[39mdevice_memory_size(gpu_data)\n",
      "File \u001b[1;32mc:\\Users\\rfeng6\\.conda\\envs\\cuda\\lib\\site-packages\\numba\\cuda\\cudadrv\\driver.py:1361\u001b[0m, in \u001b[0;36mContext.memalloc\u001b[1;34m(self, bytesize)\u001b[0m\n\u001b[0;32m   1360\u001b[0m \u001b[39mdef\u001b[39;00m \u001b[39mmemalloc\u001b[39m(\u001b[39mself\u001b[39m, bytesize):\n\u001b[1;32m-> 1361\u001b[0m     \u001b[39mreturn\u001b[39;00m \u001b[39mself\u001b[39;49m\u001b[39m.\u001b[39;49mmemory_manager\u001b[39m.\u001b[39;49mmemalloc(bytesize)\n",
      "File \u001b[1;32mc:\\Users\\rfeng6\\.conda\\envs\\cuda\\lib\\site-packages\\numba\\cuda\\cudadrv\\driver.py:1053\u001b[0m, in \u001b[0;36mNumbaCUDAMemoryManager.memalloc\u001b[1;34m(self, size)\u001b[0m\n\u001b[0;32m   1050\u001b[0m     \u001b[39mdef\u001b[39;00m \u001b[39mallocator\u001b[39m():\n\u001b[0;32m   1051\u001b[0m         driver\u001b[39m.\u001b[39mcuMemAlloc(byref(ptr), size)\n\u001b[1;32m-> 1053\u001b[0m     \u001b[39mself\u001b[39;49m\u001b[39m.\u001b[39;49m_attempt_allocation(allocator)\n\u001b[0;32m   1054\u001b[0m     alloc_key \u001b[39m=\u001b[39m ptr\u001b[39m.\u001b[39mvalue\n\u001b[0;32m   1056\u001b[0m finalizer \u001b[39m=\u001b[39m _alloc_finalizer(\u001b[39mself\u001b[39m, ptr, alloc_key, size)\n",
      "File \u001b[1;32mc:\\Users\\rfeng6\\.conda\\envs\\cuda\\lib\\site-packages\\numba\\cuda\\cudadrv\\driver.py:840\u001b[0m, in \u001b[0;36mHostOnlyCUDAMemoryManager._attempt_allocation\u001b[1;34m(self, allocator)\u001b[0m\n\u001b[0;32m    834\u001b[0m \u001b[39m\u001b[39m\u001b[39m\"\"\"\u001b[39;00m\n\u001b[0;32m    835\u001b[0m \u001b[39mAttempt allocation by calling *allocator*.  If an out-of-memory error\u001b[39;00m\n\u001b[0;32m    836\u001b[0m \u001b[39mis raised, the pending deallocations are flushed and the allocation\u001b[39;00m\n\u001b[0;32m    837\u001b[0m \u001b[39mis retried.  If it fails in the second attempt, the error is reraised.\u001b[39;00m\n\u001b[0;32m    838\u001b[0m \u001b[39m\"\"\"\u001b[39;00m\n\u001b[0;32m    839\u001b[0m \u001b[39mtry\u001b[39;00m:\n\u001b[1;32m--> 840\u001b[0m     \u001b[39mreturn\u001b[39;00m allocator()\n\u001b[0;32m    841\u001b[0m \u001b[39mexcept\u001b[39;00m CudaAPIError \u001b[39mas\u001b[39;00m e:\n\u001b[0;32m    842\u001b[0m     \u001b[39m# is out-of-memory?\u001b[39;00m\n\u001b[0;32m    843\u001b[0m     \u001b[39mif\u001b[39;00m USE_NV_BINDING:\n",
      "File \u001b[1;32mc:\\Users\\rfeng6\\.conda\\envs\\cuda\\lib\\site-packages\\numba\\cuda\\cudadrv\\driver.py:1051\u001b[0m, in \u001b[0;36mNumbaCUDAMemoryManager.memalloc.<locals>.allocator\u001b[1;34m()\u001b[0m\n\u001b[0;32m   1050\u001b[0m \u001b[39mdef\u001b[39;00m \u001b[39mallocator\u001b[39m():\n\u001b[1;32m-> 1051\u001b[0m     driver\u001b[39m.\u001b[39;49mcuMemAlloc(byref(ptr), size)\n",
      "File \u001b[1;32mc:\\Users\\rfeng6\\.conda\\envs\\cuda\\lib\\site-packages\\numba\\cuda\\cudadrv\\driver.py:319\u001b[0m, in \u001b[0;36mDriver._ctypes_wrap_fn.<locals>.safe_cuda_api_call\u001b[1;34m(*args)\u001b[0m\n\u001b[0;32m    317\u001b[0m \u001b[39mdef\u001b[39;00m \u001b[39msafe_cuda_api_call\u001b[39m(\u001b[39m*\u001b[39margs):\n\u001b[0;32m    318\u001b[0m     _logger\u001b[39m.\u001b[39mdebug(\u001b[39m'\u001b[39m\u001b[39mcall driver api: \u001b[39m\u001b[39m%s\u001b[39;00m\u001b[39m'\u001b[39m, libfn\u001b[39m.\u001b[39m\u001b[39m__name__\u001b[39m)\n\u001b[1;32m--> 319\u001b[0m     retcode \u001b[39m=\u001b[39m libfn(\u001b[39m*\u001b[39;49margs)\n\u001b[0;32m    320\u001b[0m     \u001b[39mself\u001b[39m\u001b[39m.\u001b[39m_check_ctypes_error(fname, retcode)\n",
      "\u001b[1;31mKeyboardInterrupt\u001b[0m: "
     ]
    }
   ],
   "source": [
    "\n",
    "def make_random_film(N, pert_budget, seed=1):\n",
    "    np.random.seed(seed)\n",
    "    d = np.random.random(N)\n",
    "    np.random.seed(np.random.randint(100))\n",
    "    pert_idx = np.random.randint(0, d.shape[0])\n",
    "    d[pert_idx] += 100\n",
    "    d *= 3000 / np.sum(d)\n",
    "    film = FilmSimple('SiO2', 'TiO2', 'Si', d_init=d)\n",
    "    film.add_spec_param(0., wls)\n",
    "    film_pert = copy.deepcopy(film)\n",
    "\n",
    "    d = copy.deepcopy(d) # change reference of d to new\n",
    "    d[pert_idx] += pert_budget\n",
    "    film_pert.update_d(d)\n",
    "    return film, film_pert\n",
    "\n",
    "def make_pert(dim, rep_num=10, show=False, c='C0', budgets=np.linspace(-100, 100, 20)):\n",
    "\n",
    "    losses = []\n",
    "    for rep in range(rep_num):\n",
    "        if show:\n",
    "            print(f'dim {dim}, rep {rep}')\n",
    "        losses.append([])\n",
    "        for budget in budgets:\n",
    "            film, film_pert = make_random_film(dim, budget, seed=rep)\n",
    "\n",
    "            # plot_layer_thickness(film)\n",
    "            # plot_layer_thickness(film_pert)\n",
    "\n",
    "            # print(f'before: loss={calculate_RMS(film, film_pert)}')\n",
    "            adam_optimize(film_pert, [film.get_spec()], 100, alpha=1)\n",
    "            # print(f'after: loss={calculate_RMS(film, film_pert)}')\n",
    "            losses[-1].append(calculate_RMS(film, film_pert))\n",
    "    losses = np.array(losses)\n",
    "    stds = np.std(losses, axis=0)\n",
    "    losses = np.mean(losses, axis=0)\n",
    "    return losses, stds\n",
    "\n",
    "loss, std = [], []\n",
    "layer_numbers = [5, 10, 50, 100]\n",
    "for N in layer_numbers:\n",
    "    cur_loss, cur_std = make_pert(layer_numbers, show=True, c='C0')\n",
    "    loss.append(cur_loss)\n",
    "    std.append(cur_std)\n"
   ]
  },
  {
   "cell_type": "code",
   "execution_count": null,
   "metadata": {},
   "outputs": [],
   "source": [
    "budgets = np.linspace(-100, 100, 20)\n",
    "\n",
    "fig, ax = plt.subplots(1, 1)\n",
    "for cur_loss, cur_std, layer_number, i in zip(loss, std, layer_numbers, range(len(std))):\n",
    "    ax.plot(budgets, cur_loss, label=f'{layer_numbers} layers', c=f'C{i}')\n",
    "ax.set_xlabel('pert')\n",
    "ax.set_ylabel('loss after gd')\n",
    "ax.legend()"
   ]
  },
  {
   "cell_type": "code",
   "execution_count": 25,
   "metadata": {},
   "outputs": [
    {
     "data": {
      "text/plain": [
       "(0.0, 0.1677856300692068)"
      ]
     },
     "execution_count": 25,
     "metadata": {},
     "output_type": "execute_result"
    }
   ],
   "source": [
    "ax.set_ylim(0, None)\n"
   ]
  }
 ],
 "metadata": {
  "kernelspec": {
   "display_name": "cuda",
   "language": "python",
   "name": "python3"
  },
  "language_info": {
   "codemirror_mode": {
    "name": "ipython",
    "version": 3
   },
   "file_extension": ".py",
   "mimetype": "text/x-python",
   "name": "python",
   "nbconvert_exporter": "python",
   "pygments_lexer": "ipython3",
   "version": "3.10.9"
  },
  "orig_nbformat": 4
 },
 "nbformat": 4,
 "nbformat_minor": 2
}
