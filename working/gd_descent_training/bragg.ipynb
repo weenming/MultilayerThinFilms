{
 "cells": [
  {
   "cell_type": "code",
   "execution_count": 2,
   "metadata": {},
   "outputs": [],
   "source": [
    "import numpy as np\n",
    "import matplotlib.pyplot as plt\n",
    "import matplotlib.cm as cm\n",
    "import sys\n",
    "sys.path.append('./../../designer/script/')\n",
    "sys.path.append('./../')\n",
    "sys.path.append('./../../')\n",
    "from film import TwoMaterialFilm\n",
    "from spectrum import Spectrum\n",
    "from design import BaseDesign\n",
    "import os\n",
    "\n",
    "from analyze_utils.structure import plot_layer_thickness\n",
    "from optimizer.adam_d import adam_optimize\n",
    "import pickle\n",
    "\n"
   ]
  },
  {
   "cell_type": "code",
   "execution_count": null,
   "metadata": {},
   "outputs": [],
   "source": [
    "\n",
    "\n",
    "def load_designs(file_dir, filter=lambda x: True) -> list[BaseDesign]:\n",
    "    fname_ls = os.listdir(file_dir)\n",
    "    designs = []\n",
    "    for fname in fname_ls:\n",
    "        if not filter(fname):\n",
    "            continue\n",
    "        with open(file_dir + fname, 'rb') as f:\n",
    "            designs.append(pickle.load(f))\n",
    "    return designs\n",
    "\n",
    "\n",
    "dir = './raw_result/back_reflector/SiO2_TiO2-400to1000nm-700nm/'\n",
    "\n",
    "\n",
    "fig, (ax, ax2, ax3) = plt.subplots(3, 1)\n",
    "for layer in [41, 91, 191]:\n",
    "\n",
    "    losses = []\n",
    "    init_ots = []\n",
    "    final_layers = []\n",
    "    final_ots = []\n",
    "    for design in load_designs(dir, lambda x: f'_layer{layer}_' in x):\n",
    "        \n",
    "        design.film.remove_negative_thickness_layer()\n",
    "        final_layers.append(design.film.get_layer_number())\n",
    "        losses.append(design.calculate_loss())\n",
    "        init_ots.append(design.get_init_ot())\n",
    "        final_ots.append(design.get_current_ot())\n",
    "\n",
    "    color = cm.get_cmap('cividis')(1 - layer / 200)\n",
    "    ax.scatter(init_ots, losses, label=f'init {layer} layers', color=color)\n",
    "    ax2.scatter(init_ots, final_layers, label=f'init {layer} layers', color=color)\n",
    "    ax3.scatter(init_ots, final_ots, label=f'init {layer} layers', color=color)\n",
    "\n",
    "\n",
    "ax.set_ylabel('loss')\n",
    "ax.set_yscale('log')\n",
    "\n",
    "ax2.set_ylabel('final layer number')\n",
    "ax2.legend(bbox_to_anchor=(1, 1))\n",
    "\n",
    "ax3.set_xlabel('init ot / nm')\n",
    "ax3.set_ylabel('final ot')\n",
    "# ax3.legend()\n",
    "\n",
    "fig.tight_layout()\n"
   ]
  },
  {
   "cell_type": "code",
   "execution_count": null,
   "metadata": {},
   "outputs": [],
   "source": [
    "from analyze_utils.structure import plot_layer_thickness\n",
    "\n",
    "def plot_deisgn(design):\n",
    "    design.film.remove_negative_thickness_layer()\n",
    "    print(f'init layer: {design.init_film.get_layer_number()}')\n",
    "    print(f'init ot: {design.get_init_ot()}')\n",
    "    print(f'loss: {design.calculate_loss()}')\n",
    "    plot_layer_thickness(design.film)\n",
    "\n",
    "layer = 190\n",
    "import re\n",
    "filter = lambda x: f'_layer{layer}_' in x and 5000 > float(re.match('ot(.*)_layer', x).group(1)) > 4900\n",
    "designs = load_designs(dir, filter)\n",
    "\n",
    "for design in designs:\n",
    "\n",
    "    plot_deisgn(design)\n",
    "\n",
    "    fig, ax = plt.subplots(1, 1)\n",
    "    wls = np.linspace(400, 700, 1000)\n",
    "    ax.plot(wls, design.film.get_spec(inc_ang=0., wls=wls).get_R())\n",
    "    ax.set_title(f'init ot {design.get_init_ot()}')\n",
    "\n",
    "    fig, ax = plt.subplots(1, 1)\n",
    "    ax.plot([x['step'] for x in design.training_info], [x['loss'] for x in design.training_info])"
   ]
  },
  {
   "cell_type": "code",
   "execution_count": null,
   "metadata": {},
   "outputs": [],
   "source": []
  }
 ],
 "metadata": {
  "kernelspec": {
   "display_name": "Python 3",
   "language": "python",
   "name": "python3"
  },
  "language_info": {
   "codemirror_mode": {
    "name": "ipython",
    "version": 3
   },
   "file_extension": ".py",
   "mimetype": "text/x-python",
   "name": "python",
   "nbconvert_exporter": "python",
   "pygments_lexer": "ipython3",
   "version": "3.9.1"
  },
  "orig_nbformat": 4,
  "vscode": {
   "interpreter": {
    "hash": "865d8b2eb28e274047ba64063dfb6a2aabf0dfec4905d304d7a76618dae6fdd4"
   }
  }
 },
 "nbformat": 4,
 "nbformat_minor": 2
}
