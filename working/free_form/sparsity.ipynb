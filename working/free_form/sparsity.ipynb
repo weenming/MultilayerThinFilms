{
 "cells": [
  {
   "cell_type": "code",
   "execution_count": 1,
   "metadata": {},
   "outputs": [],
   "source": [
    "import sys\n",
    "sys.path.append('./../../')\n",
    "sys.path.append('./..')\n",
    "sys.path.append('./../../designer/script/')\n",
    "\n",
    "\n",
    "from film import FreeFormFilm, BaseFilm\n",
    "from design import BaseDesign\n",
    "from spectrum import BaseSpectrum\n",
    "from optimizer.adam import AdamFreeFormOptimizer\n",
    "\n",
    "from analyze_utils.make_design import make_edgefilter_design, make_reflection_design, make_three_line_filter_design\n",
    "from utils.loss import calculate_RMS_f_spec\n",
    "from analyze_utils.result_io import save, load\n",
    "from analyze_utils.structure import plot_layer_thickness\n",
    "\n",
    "import numpy as np\n",
    "import matplotlib.pyplot as plt\n",
    "import copy\n",
    "import pickle\n",
    "from typing import Sequence\n",
    "\n"
   ]
  },
  {
   "cell_type": "code",
   "execution_count": 2,
   "metadata": {},
   "outputs": [],
   "source": [
    "\n",
    "\n",
    "\n",
    "edge_filter = False\n",
    "back_reflector_full_gap = False\n",
    "back_reflector = True\n",
    "\n",
    "if edge_filter:\n",
    "    films_rep, losses_rep, best_film_rep = load('./raw_result/edge_filter_design_result')\n",
    "    def rm_last_rep(xs):\n",
    "        for x in xs:\n",
    "            x: list\n",
    "            x.pop()\n",
    "    design = make_edgefilter_design()\n",
    "    rm_last_rep([films_rep, losses_rep, best_film_rep])\n",
    "elif back_reflector_full_gap:\n",
    "    films_rep, losses_rep, best_film_rep = load('./raw_result/back_reflector_result')\n",
    "    design = make_reflection_design(wls=np.linspace(695, 939, 500))\n",
    "elif back_reflector:\n",
    "    losses_rep, best_film_rep, design = load('./raw_result/reflector_minwl_600_maxwl_800_batch_size_200_alpha_0.1_n_min1.5_n_max3')\n",
    "    design = make_reflection_design(wls=np.linspace(600, 800, 500))\n",
    "\n",
    "rep = 0\n",
    "ot_id = 0\n",
    "iter_id = -1\n",
    "f = best_film_rep[rep][ot_id]\n",
    "# f = best_film_rep[rep][ot_id]"
   ]
  },
  {
   "cell_type": "code",
   "execution_count": 3,
   "metadata": {},
   "outputs": [
    {
     "name": "stdout",
     "output_type": "stream",
     "text": [
      "film has no spec. use 1000 nm\n"
     ]
    },
    {
     "name": "stderr",
     "output_type": "stream",
     "text": [
      "c:\\Users\\rfeng6\\.conda\\envs\\cuda\\lib\\site-packages\\matplotlib\\cbook\\__init__.py:1369: ComplexWarning: Casting complex values to real discards the imaginary part\n",
      "  return np.asarray(x, float)\n"
     ]
    },
    {
     "name": "stdout",
     "output_type": "stream",
     "text": [
      "0.002585344395377933\n"
     ]
    },
    {
     "data": {
      "image/png": "[encoded data removed]",
      "text/plain": [
       "<Figure size 600x100 with 1 Axes>"
      ]
     },
     "metadata": {},
     "output_type": "display_data"
    }
   ],
   "source": [
    "\n",
    "ax, fig = plot_layer_thickness(f)\n",
    "\n",
    "\n",
    "print(calculate_RMS_f_spec(f, design.target_specs))\n",
    "\n",
    "def plot_training(losses):\n",
    "    fig, ax = plt.subplots(1, 1)\n",
    "    ax.plot(range(len(losses)), losses)\n",
    "    ax.set_xlabel('step')\n",
    "    ax.set_ylabel('loss')\n",
    "    ax.set_yscale('log')\n",
    "\n"
   ]
  },
  {
   "attachments": {},
   "cell_type": "markdown",
   "metadata": {},
   "source": [
    "Show slice"
   ]
  },
  {
   "cell_type": "code",
   "execution_count": null,
   "metadata": {},
   "outputs": [],
   "source": [
    "def loss_slice(f: FreeFormFilm, \n",
    "               target_specs: Sequence[BaseSpectrum], \n",
    "               n_min, \n",
    "               n_max, \n",
    "               layers_var=None\n",
    "            ):\n",
    "    assert 0 <= layers_var[0] <= layers_var[-1] < f.get_layer_number()\n",
    "    if layers_var is None:\n",
    "        layers_var = np.arange(f.get_layer_number())\n",
    "\n",
    "    work_film = copy.deepcopy(f)\n",
    "    resolution = 20\n",
    "    n_var = np.linspace(n_min, n_max, resolution)\n",
    "    \n",
    "    img = np.zeros((resolution, layers_var.shape[0]))\n",
    "\n",
    "    for i in range(layers_var.shape[0]):\n",
    "        \n",
    "        # print(i / layers_var.shape[0])\n",
    "        for j in range(resolution):\n",
    "            n = f.get_n().copy()\n",
    "            n[layers_var[i]] = n_var[j]\n",
    "            work_film.update_n(n)\n",
    "            img[j, i] = calculate_RMS_f_spec(work_film, target_specs)\n",
    "    return img\n",
    "\n",
    "def show_slice(img):\n",
    "    fig, ax = plt.subplots(1, 1)\n",
    "    s = ax.imshow(\n",
    "        img, \n",
    "        cmap='viridis', \n",
    "        aspect='auto', \n",
    "        interpolation=None, \n",
    "        extent=[layers_var[0], layers_var[-1], n_max, n_min], \n",
    "        # vmax=0.05\n",
    "    )\n",
    "    ax.set_xlabel('layer index')\n",
    "    ax.set_ylabel('n')\n",
    "    ax.invert_yaxis()\n",
    "    cbar = fig.colorbar(s)\n",
    "    cbar.set_label('loss')\n",
    "\n",
    "\n",
    "layers_var = np.arange(450, 500, 1)\n",
    "n_min = 1\n",
    "n_max = 10\n",
    "img = loss_slice(f, design.target_specs, n_min, n_max, layers_var=layers_var)\n",
    "\n",
    "show_slice(img)\n",
    "\n",
    "plot_layer_thickness(FreeFormFilm(f.get_n()[layers_var], f.get_d()[layers_var].sum(), 'SiO2'))\n"
   ]
  },
  {
   "attachments": {},
   "cell_type": "markdown",
   "metadata": {},
   "source": [
    "Show projection"
   ]
  },
  {
   "cell_type": "code",
   "execution_count": 4,
   "metadata": {},
   "outputs": [],
   "source": [
    "def loss_projection(\n",
    "\tf: FreeFormFilm, \n",
    "\ttarget_specs: Sequence[BaseSpectrum], \n",
    "\tn_min, \n",
    "\tn_max, \n",
    "\ti1, \n",
    "\ti2\n",
    "):\n",
    "\n",
    "\twork_film = copy.deepcopy(f)\n",
    "\tresolution = 20\n",
    "\tn_var = np.linspace(n_min, n_max, resolution)\n",
    "\n",
    "\timg = np.zeros((resolution, resolution))\n",
    "\n",
    "\tfor i in range(resolution):\n",
    "\t\t# print(i / resolution)\n",
    "\n",
    "\t\tfor j in range(resolution):\n",
    "\t\t\tn = f.get_n().copy()\n",
    "\t\t\tn[i1] = n_var[i]\n",
    "\t\t\tn[i2] = n_var[j]\n",
    "\t\t\twork_film.update_n(n)\n",
    "\t\t\timg[j, i] = calculate_RMS_f_spec(work_film, target_specs)\n",
    "\treturn img\n",
    "\n",
    "\n",
    "def show_projection(img):\n",
    "\t\n",
    "    fig, ax = plt.subplots(1, 1)\n",
    "    s = ax.contourf(\n",
    "        img, \n",
    "        cmap='viridis', \n",
    "        aspect='auto', \n",
    "        interpolation=None, \n",
    "        extent=[n_min, n_max, n_min, n_max], \n",
    "        # vmax=1\n",
    "    )\n",
    "    ax.set_xlabel('$n_1$')\n",
    "    ax.set_ylabel('$n_2$')\n",
    "    # ax.invert_yaxis()\n",
    "    cbar = fig.colorbar(s)\n",
    "    cbar.set_label('loss')\n",
    "\n",
    "    n_c_min = 1\n",
    "    n_c_max = 3\n",
    "    n_c_best = n_c_min\n",
    "\n",
    "    ax.plot([n_c_min, n_c_max], [n_c_min, n_c_min], label='constraint', c='C0')\n",
    "    ax.plot([n_c_min, n_c_max], [n_c_max, n_c_max], c='C0')\n",
    "    ax.plot([n_c_min, n_c_min], [n_c_min, n_c_max], c='C0')\n",
    "    ax.plot([n_c_max, n_c_max], [n_c_min, n_c_max], c='C0')\n",
    "    # ax.scatter(n_c_best, n_c_best - 0.1, marker='$*$', s=200, c='C3', zorder=3)\n",
    "    # ax.scatter(n_c_best, n_c_best, marker='*', s=100, c='C3', zorder=3)\n",
    "\n",
    "    return fig, ax    \n",
    "\n"
   ]
  },
  {
   "cell_type": "code",
   "execution_count": 20,
   "metadata": {},
   "outputs": [
    {
     "name": "stdout",
     "output_type": "stream",
     "text": [
      "(1.7221023575815186+0j)\n"
     ]
    }
   ],
   "source": []
  },
  {
   "cell_type": "code",
   "execution_count": 27,
   "metadata": {},
   "outputs": [
    {
     "name": "stderr",
     "output_type": "stream",
     "text": [
      "c:\\Users\\rfeng6\\.conda\\envs\\cuda\\lib\\site-packages\\numba\\cuda\\dispatcher.py:488: NumbaPerformanceWarning: \u001b[1mGrid size 32 will likely result in GPU under-utilization due to low occupancy.\u001b[0m\n",
      "  warn(NumbaPerformanceWarning(msg))\n",
      "C:\\Users\\rfeng6\\AppData\\Local\\Temp\\ipykernel_13008\\1006472256.py:31: UserWarning: The following kwargs were not used by contour: 'aspect', 'interpolation'\n",
      "  s = ax.contourf(\n"
     ]
    }
   ],
   "source": [
    "\n",
    "i1_start = 1665\n",
    "i1_right = 10\n",
    "\n",
    "for i1 in range(i1_start, i1_start + i1_right, 1):\n",
    "    i2 = i1 + 1\n",
    "    n_min = 0.1\n",
    "    n_max = 10\n",
    "    img = loss_projection(f, design.target_specs, n_min, n_max, i2, i2 + 1)\n",
    "\n",
    "    fig, ax = show_projection(img)\n",
    "    thickness_dif = (i2 - i1) * f.get_d().sum() / f.get_layer_number()\n",
    "    ax.set_title(f'position 1: {f.get_d()[:i1].sum(): .2f}, position 2: {f.get_d()[:i2].sum(): .2f}')\n",
    "\n",
    "    # fig.savefig(f'./results/sparsity-loss_landscape/landscape_projection_thickness_dif_{thickness_dif: .4f}.png', dpi=300)"
   ]
  },
  {
   "cell_type": "code",
   "execution_count": 24,
   "metadata": {},
   "outputs": [
    {
     "name": "stdout",
     "output_type": "stream",
     "text": [
      "film has no spec. use 1000 nm\n"
     ]
    },
    {
     "data": {
      "text/plain": [
       "(<AxesSubplot: title={'center': 'refractive index distribution at  1000 nm'}, xlabel='position / nm'>,\n",
       " <Figure size 600x100 with 1 Axes>)"
      ]
     },
     "execution_count": 24,
     "metadata": {},
     "output_type": "execute_result"
    },
    {
     "data": {
      "image/png": "[encoded data removed]",
      "text/plain": [
       "<Figure size 600x100 with 1 Axes>"
      ]
     },
     "metadata": {},
     "output_type": "display_data"
    }
   ],
   "source": [
    "i1 = 1665\n",
    "i_inc = 10\n",
    "plot_layer_thickness(FreeFormFilm(f.get_n()[i1: i1 + i_inc], f.get_d()[i1: i1 + i_inc].sum(), f.get_n()[i1 + i_inc].real))"
   ]
  }
 ],
 "metadata": {
  "kernelspec": {
   "display_name": "cuda",
   "language": "python",
   "name": "python3"
  },
  "language_info": {
   "codemirror_mode": {
    "name": "ipython",
    "version": 3
   },
   "file_extension": ".py",
   "mimetype": "text/x-python",
   "name": "python",
   "nbconvert_exporter": "python",
   "pygments_lexer": "ipython3",
   "version": "3.10.9"
  },
  "orig_nbformat": 4
 },
 "nbformat": 4,
 "nbformat_minor": 2
}
