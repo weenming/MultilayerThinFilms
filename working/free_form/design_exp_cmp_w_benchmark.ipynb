{
 "cells": [
  {
   "cell_type": "code",
   "execution_count": 1,
   "metadata": {},
   "outputs": [],
   "source": [
    "%load_ext autoreload\n",
    "%autoreload 2\n",
    "\n",
    "import sys\n",
    "sys.path.append('./../../')\n",
    "sys.path.append('./..')\n",
    "sys.path.append('./../../designer/script/')\n",
    "\n",
    "import numpy as np\n",
    "import matplotlib.pyplot as plt\n",
    "import copy\n",
    "import dill\n",
    "\n",
    "from film import FreeFormFilm, BaseFilm, TwoMaterialFilm, EqOTFilm\n",
    "from design import BaseDesign\n",
    "from spectrum import BaseSpectrum, Spectrum\n",
    "from optimizer.adam import AdamFreeFormOptimizer\n",
    "\n",
    "from analyze_utils.make_design import make_edgefilter_design, make_triband_filter_design, make_reflection_design, get_minus_filter_spec\n",
    "\n",
    "from utils.loss import calculate_RMS_f_spec\n",
    "from analyze_utils.result_io import save, load\n",
    "from analyze_utils.structure import plot_layer_thickness\n",
    "\n"
   ]
  },
  {
   "cell_type": "code",
   "execution_count": 4,
   "metadata": {},
   "outputs": [
    {
     "data": {
      "text/plain": [
       "<spectrum.SpectrumSimple at 0x7fa30488f790>"
      ]
     },
     "execution_count": 4,
     "metadata": {},
     "output_type": "execute_result"
    }
   ],
   "source": [
    "wls = np.linspace(300, 800, 1000)\n",
    "target = get_minus_filter_spec(wls, h=0.5, left=400, right=700)\n",
    "\n",
    "total_gt = 5000 # 5um, since n\\approx 2\n",
    "init_n = np.zeros(2000) + 1.5\n",
    "\n",
    "film = FreeFormFilm(init_n, total_gt, 1.94, 1.94)\n",
    "\n",
    "film.add_spec_param(0., wls)"
   ]
  },
  {
   "cell_type": "code",
   "execution_count": 73,
   "metadata": {},
   "outputs": [
    {
     "name": "stdout",
     "output_type": "stream",
     "text": [
      "iter 0, loss 0.31482154833374915\n"
     ]
    }
   ],
   "source": [
    "optimizer = AdamFreeFormOptimizer(film, [target], 1, 0.00, n_min=1.75, n_max=2.15, show=True)\n",
    "optimizer.optimize()\n",
    "\n",
    "dill.dump(film, file=open('./film_design_tmp', 'wb'))"
   ]
  },
  {
   "cell_type": "code",
   "execution_count": null,
   "metadata": {},
   "outputs": [],
   "source": [
    "film = dill.load(file=open('./film_design_tmp', 'wb'))"
   ]
  },
  {
   "cell_type": "code",
   "execution_count": 5,
   "metadata": {},
   "outputs": [
    {
     "name": "stderr",
     "output_type": "stream",
     "text": [
      "/home/vipuser/miniconda3/envs/tf_design/lib/python3.10/site-packages/matplotlib/cbook.py:1699: ComplexWarning: Casting complex values to real discards the imaginary part\n",
      "  return math.isfinite(val)\n",
      "/home/vipuser/miniconda3/envs/tf_design/lib/python3.10/site-packages/matplotlib/cbook.py:1345: ComplexWarning: Casting complex values to real discards the imaginary part\n",
      "  return np.asarray(x, float)\n"
     ]
    },
    {
     "data": {
      "text/plain": [
       "[<matplotlib.lines.Line2D at 0x7fa2f1666a70>]"
      ]
     },
     "execution_count": 5,
     "metadata": {},
     "output_type": "execute_result"
    },
    {
     "data": {
      "image/png": "[encoded data removed]",
      "text/plain": [
       "<Figure size 300x400 with 2 Axes>"
      ]
     },
     "metadata": {},
     "output_type": "display_data"
    }
   ],
   "source": [
    "fig, (ax, axn) = plt.subplots(2, 1)\n",
    "fig.set_size_inches(3, 4)\n",
    "ax.plot(wls, film.get_spec().get_R(), label='design')\n",
    "ax.plot(wls, target.get_R(), label='target')\n",
    "\n",
    "ax.set_xlabel('wl / nm')\n",
    "ax.set_ylabel('R')\n",
    "ax.set_ylim(0, 1)\n",
    "ax.legend()\n",
    "\n",
    "axn.plot(np.linspace(0, total_gt, film.get_n().shape[0]), film.get_n())\n",
    "# axn.set_ylim(1.5, 2.5)"
   ]
  },
  {
   "cell_type": "code",
   "execution_count": 117,
   "metadata": {},
   "outputs": [
    {
     "data": {
      "text/plain": [
       "1.94"
      ]
     },
     "execution_count": 117,
     "metadata": {},
     "output_type": "execute_result"
    }
   ],
   "source": [
    "film.get_spec(0., wls).calculate()\n",
    "film.get_n_sub(1)\n"
   ]
  },
  {
   "cell_type": "code",
   "execution_count": null,
   "metadata": {},
   "outputs": [],
   "source": []
  }
 ],
 "metadata": {
  "kernelspec": {
   "display_name": "tf_design",
   "language": "python",
   "name": "python3"
  },
  "language_info": {
   "codemirror_mode": {
    "name": "ipython",
    "version": 3
   },
   "file_extension": ".py",
   "mimetype": "text/x-python",
   "name": "python",
   "nbconvert_exporter": "python",
   "pygments_lexer": "ipython3",
   "version": "3.10.12"
  },
  "orig_nbformat": 4
 },
 "nbformat": 4,
 "nbformat_minor": 2
}
