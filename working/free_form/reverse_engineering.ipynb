{
 "cells": [
  {
   "cell_type": "code",
   "execution_count": 30,
   "metadata": {},
   "outputs": [
    {
     "data": {
      "text/plain": [
       "<spectrum.SpectrumSimple at 0x248748e0490>"
      ]
     },
     "execution_count": 30,
     "metadata": {},
     "output_type": "execute_result"
    }
   ],
   "source": [
    "import sys\n",
    "sys.path.append('./../../')\n",
    "sys.path.append('./..')\n",
    "sys.path.append('./../../designer/script/')\n",
    "\n",
    "from tmm.get_jacobi_n_adjoint import get_jacobi_free_form\n",
    "from film import TwoMaterialFilm, FreeFormFilm, BaseFilm\n",
    "from design import DesignForFilm\n",
    "\n",
    "from analyze_utils.structure import plot_layer_thickness\n",
    "from optimizer.adam import AdamFreeFormOptimizer, AdamThicknessOptimizer\n",
    "\n",
    "import numpy as np\n",
    "import matplotlib.pyplot as plt\n",
    "import pickle\n",
    "import copy\n",
    "\n",
    "inc_ang = 0.\n",
    "wls = np.linspace(500, 2000, 500)\n",
    "\n",
    "#  make target film\n",
    "# np.random.seed(1)\n",
    "# d = np.random.random(15)\n",
    "# d *= 1000. / d.sum()\n",
    "\n",
    "# d = np.array([100, 100] * 3)\n",
    "# target_film = TwoMaterialFilm('2', '1', 'SiO2', d)\n",
    "\n",
    "np.random.seed(2)\n",
    "d = np.random.random(6)\n",
    "d *= 600 / d.sum()\n",
    "target_film = TwoMaterialFilm('2', '1', 'SiO2', d)\n",
    "\n",
    "target_film.add_spec_param(inc_ang, wls)\n"
   ]
  },
  {
   "cell_type": "code",
   "execution_count": null,
   "metadata": {},
   "outputs": [],
   "source": [
    "# thickness gd\n",
    "np.random.seed(42)\n",
    "init_layers = 100\n",
    "d = np.random.random(init_layers) + 1.\n",
    "d = d * 1000 / d.sum() # total gd = 1000 nm\n",
    "rand_2m_gd_film = TwoMaterialFilm('1', '2', 'SiO2', d)\n",
    "design = DesignForFilm(target_film, rand_2m_gd_film)\n",
    "\n",
    "adam_d_optimizer = AdamThicknessOptimizer(\n",
    "    design.film, \n",
    "    design.target_specs, \n",
    "    4000, \n",
    "    alpha=0.1, \n",
    "    record=True, \n",
    "    show=True,\n",
    ")\n"
   ]
  },
  {
   "cell_type": "code",
   "execution_count": null,
   "metadata": {},
   "outputs": [],
   "source": [
    "\n",
    "# free form gd\n",
    "np.random.seed(42)\n",
    "# n = np.random.random(1000) + 1. # in (1, 2)\n",
    "n = np.random.random(1000) * 3\n",
    "free_film = FreeFormFilm(n, 600., 'SiO2')\n",
    "\n",
    "# free_film.add_spec_param(inc_ang, wls)\n",
    "# plot_layer_thickness(free_film)\n",
    "\n",
    "def gd_one_ang(target_film: BaseFilm, film: FreeFormFilm):\n",
    "    target_film = copy.deepcopy(target_film)\n",
    "    target_film.remove_all_spec_param()\n",
    "    target_film.add_spec_param(0., wls)\n",
    "    adam_optimizer = AdamFreeFormOptimizer(\n",
    "        film, \n",
    "        target_film.get_all_spec_list(), \n",
    "        500, \n",
    "        alpha=0.1, \n",
    "        beta1=0.9, \n",
    "        beta2=0.999, \n",
    "        record=True, \n",
    "        show=True, \n",
    "        n_min=1, \n",
    "        n_max=2, \n",
    "        batch_size_wl=100\n",
    "    )\n",
    "    films, losses = adam_optimizer()\n",
    "    return losses, films\n",
    "\n",
    "def gd_two_angs(target_film: BaseFilm, film: FreeFormFilm):\n",
    "    target_film = copy.deepcopy(target_film)\n",
    "    \n",
    "    target_film.remove_all_spec_param()\n",
    "    target_film.add_spec_param(45., wls) \n",
    "    # target_film.add_spec_param(0., wls)\n",
    "    \n",
    "    film.remove_all_spec_param()\n",
    "    film.add_spec_param(45., wls) \n",
    "    # film.add_spec_param(0., wls)\n",
    "\n",
    "    adam_optimizer = AdamFreeFormOptimizer(\n",
    "        film, \n",
    "        target_film.get_all_spec_list(), \n",
    "        500, \n",
    "        alpha=0.3, \n",
    "        beta1=0.9, \n",
    "        beta2=0.999, \n",
    "        record=True, \n",
    "        show=True, \n",
    "        n_min=1, \n",
    "        n_max=2, # note that this constraint is extra info\n",
    "        batch_size_wl=500,  \n",
    "    )\n",
    "    films, losses = adam_optimizer()\n",
    "    return losses, films\n",
    "\n",
    "\n",
    "losses, films = gd_two_angs(target_film, free_film)\n",
    "\n",
    "working_film_save_dir = './films_double_specs'\n",
    "with open(working_film_save_dir, 'wb') as  f:\n",
    "    pickle.dump(films, f)"
   ]
  },
  {
   "cell_type": "code",
   "execution_count": 41,
   "metadata": {},
   "outputs": [],
   "source": [
    "from analyze_utils.structure import diff_simple_film\n",
    "\n",
    "with open(working_film_save_dir, 'rb') as f:\n",
    "    films = pickle.load(f)\n",
    "    \n",
    "similarities = []\n",
    "\n",
    "for film in films:\n",
    "    similarities.append(diff_simple_film(target_film, film))\n",
    "    \n"
   ]
  },
  {
   "cell_type": "code",
   "execution_count": 1,
   "metadata": {},
   "outputs": [
    {
     "ename": "NameError",
     "evalue": "name 'plot_layer_thickness' is not defined",
     "output_type": "error",
     "traceback": [
      "\u001b[1;31m---------------------------------------------------------------------------\u001b[0m",
      "\u001b[1;31mNameError\u001b[0m                                 Traceback (most recent call last)",
      "Cell \u001b[1;32mIn[1], line 4\u001b[0m\n\u001b[0;32m      1\u001b[0m fpath \u001b[39m=\u001b[39m \u001b[39m'\u001b[39m\u001b[39m./results/reverse_random_easy_2/45_deg/\u001b[39m\u001b[39m'\u001b[39m\n\u001b[1;32m----> 4\u001b[0m ax, fig \u001b[39m=\u001b[39m plot_layer_thickness(target_film)\n\u001b[0;32m      5\u001b[0m fig\u001b[39m.\u001b[39msavefig(fpath \u001b[39m+\u001b[39m \u001b[39mf\u001b[39m\u001b[39m'\u001b[39m\u001b[39mtarget.png\u001b[39m\u001b[39m'\u001b[39m, dpi\u001b[39m=\u001b[39m\u001b[39m300\u001b[39m, bbox_inches\u001b[39m=\u001b[39m\u001b[39m'\u001b[39m\u001b[39mtight\u001b[39m\u001b[39m'\u001b[39m)\n\u001b[0;32m      8\u001b[0m plot_i \u001b[39m=\u001b[39m \u001b[39mlist\u001b[39m(\u001b[39mrange\u001b[39m(\u001b[39m5\u001b[39m)) \u001b[39m+\u001b[39m [\u001b[39m100\u001b[39m, \u001b[39m200\u001b[39m, \u001b[39m500\u001b[39m]\n",
      "\u001b[1;31mNameError\u001b[0m: name 'plot_layer_thickness' is not defined"
     ]
    }
   ],
   "source": [
    "fpath = './results/reverse_random_easy_2/45_deg/'\n",
    "\n",
    "\n",
    "ax, fig = plot_layer_thickness(target_film)\n",
    "fig.savefig(fpath + f'target.png', dpi=300, bbox_inches='tight')\n",
    "\n",
    "\n",
    "plot_i = list(range(5)) + [100, 200, 500]\n",
    "for i in plot_i[::-1]:\n",
    "    f: BaseFilm = copy.deepcopy(films[i])\n",
    "    d = f.get_d()\n",
    "    sum = 0\n",
    "    for j, di in enumerate(d):\n",
    "        if sum > 600:\n",
    "            break\n",
    "        sum += di\n",
    "    d = d[:j]\n",
    "\n",
    "    f.update_d(d)\n",
    "    ax, fig = plot_layer_thickness(f)\n",
    "    ax.set_title(f'step {i}')\n",
    "    fig.savefig(fpath + f'step_{i}.png', dpi=300, bbox_inches='tight')\n",
    "\n",
    "    ax, fig = plot_layer_thickness(films[i])\n",
    "    ax.set_title(f'step {i}')\n",
    "    fig.savefig(fpath + f'all_depth_step_{i}.png', dpi=300, bbox_inches='tight')\n",
    "\n",
    "\n",
    "# plot specs# plot specs\n",
    "spec_param_ls = [[0., wls], [30., wls], [60., wls]]\n",
    "fig, axes = plt.subplots(\n",
    "    1, \n",
    "    len(spec_param_ls), \n",
    "    sharey=True, \n",
    ")\n",
    "axes = [axes] if isinstance(axes, plt.Axes) else axes # special case: 1 spec\n",
    "axes[0].set_ylabel('R')\n",
    "for ax, spec_arg in zip(axes, spec_param_ls):\n",
    "    ax.plot(\n",
    "        wls, \n",
    "        target_film.get_spec(*spec_arg).get_R(), \n",
    "        label='target'\n",
    "    )\n",
    "    ax.plot(\n",
    "        wls, \n",
    "        free_film.get_spec(*spec_arg).get_R(), \n",
    "        label='design'\n",
    "    )\n",
    "    ax.set_title(f'inc at {spec_arg[0]}')\n",
    "    ax.set_xlabel('wl / nm')\n",
    "    ax.legend()\n",
    "fig.tight_layout()\n",
    "fig.savefig(fpath + 'spec.png', dpi=300)\n",
    "\n",
    "\n",
    "fig, ax = plt.subplots(1, 1)\n",
    "ax.plot(losses, label='losses')\n",
    "ax.set_xlabel('step')\n",
    "ax.set_ylabel('loss')\n",
    "ax.set_yscale('log')\n",
    "ax.legend(loc='upper right')\n",
    "\n",
    "ax2 = ax.twinx()\n",
    "ax2.plot(similarities, label='dif', c='orange')\n",
    "ax2.set_ylabel('dif')\n",
    "ax2.set_ylim(0, 1)\n",
    "ax2.legend(loc='upper left')\n",
    "fig.savefig(fpath + 'training.png', dpi=300)\n"
   ]
  },
  {
   "cell_type": "code",
   "execution_count": 35,
   "metadata": {},
   "outputs": [
    {
     "data": {
      "text/plain": [
       "(<AxesSubplot: title={'center': 'refractive index distribution at  1252 nm'}, xlabel='position / nm'>,\n",
       " <Figure size 600x100 with 1 Axes>)"
      ]
     },
     "execution_count": 35,
     "metadata": {},
     "output_type": "execute_result"
    },
    {
     "data": {
      "image/png": "[encoded data removed]",
      "text/plain": [
       "<Figure size 600x100 with 1 Axes>"
      ]
     },
     "metadata": {},
     "output_type": "display_data"
    }
   ],
   "source": [
    "def equiv_n(x, window):\n",
    "    def avg(x):\n",
    "        return np.sqrt(np.square(x).mean())\n",
    "    for i in range(x.shape[0] - window):\n",
    "        x[i: i + window] = avg(x[i: i + window])\n",
    "    for i in range(x.shape[0] - window, x.shape[0]):\n",
    "        x[i:] = avg(x[i:])\n",
    "    return x\n",
    "\n",
    "film = copy.deepcopy(films[-1])\n",
    "n = films[-1].get_n()\n",
    "film.update_n(equiv_n(n, 10))\n",
    "plot_layer_thickness(film)"
   ]
  }
 ],
 "metadata": {
  "kernelspec": {
   "display_name": "cuda",
   "language": "python",
   "name": "python3"
  },
  "language_info": {
   "codemirror_mode": {
    "name": "ipython",
    "version": 3
   },
   "file_extension": ".py",
   "mimetype": "text/x-python",
   "name": "python",
   "nbconvert_exporter": "python",
   "pygments_lexer": "ipython3",
   "version": "3.10.9"
  },
  "orig_nbformat": 4
 },
 "nbformat": 4,
 "nbformat_minor": 2
}
