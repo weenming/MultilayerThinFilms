{
 "cells": [
  {
   "cell_type": "code",
   "execution_count": 2,
   "metadata": {},
   "outputs": [],
   "source": [
    "import sys\n",
    "sys.path.append('./../../')\n",
    "sys.path.append('./..')\n",
    "sys.path.append('./../../designer/script/')\n",
    "\n",
    "\n",
    "from film import FreeFormFilm, BaseFilm, TwoMaterialFilm, EqOTFilm\n",
    "from design import BaseDesign\n",
    "from spectrum import BaseSpectrum, Spectrum\n",
    "from optimizer.adam import AdamFreeFormOptimizer\n",
    "\n",
    "from analyze_utils.make_design import make_edgefilter_design, make_reflection_design, make_three_line_filter_design\n",
    "from utils.loss import calculate_RMS_f_spec\n",
    "from analyze_utils.result_io import save, load\n",
    "from analyze_utils.structure import plot_layer_thickness\n",
    "\n",
    "import numpy as np\n",
    "import matplotlib.pyplot as plt\n",
    "import matplotlib.patches as mpatches\n",
    "import copy\n",
    "import pickle"
   ]
  },
  {
   "cell_type": "code",
   "execution_count": 3,
   "metadata": {},
   "outputs": [],
   "source": [
    "# impact of hyperpram on convergence\n",
    "target = make_three_line_filter_design().target_specs\n",
    "max_step = 100\n",
    "\n",
    "def exp(layer_ot, n_size):\n",
    "    n = np.random.random(n_size) + 1.5 # 1.5 to 2.5, init ot dif from final ot by: 1/4\n",
    "    film = EqOTFilm(n, layer_ot * n_size, 'SiO2')\n",
    "    \n",
    "    optimizer = AdamFreeFormOptimizer(\n",
    "        film, \n",
    "        target, \n",
    "        max_steps=max_step, \n",
    "        alpha=0.1, \n",
    "        record=True, \n",
    "        show=False, \n",
    "        wl_batch_size=200\n",
    "    )\n",
    "    losses, films = optimizer()\n",
    "    return losses\n",
    "\n",
    "\n",
    "layer_ot = 1\n",
    "n_size = 1000\n",
    "\n",
    "fig, ax = plt.subplots(1, 1)\n",
    "ax.plot(np.arange(max_step), exp(layer_ot, n_size))\n",
    "\n"
   ]
  }
 ],
 "metadata": {
  "kernelspec": {
   "display_name": "cuda",
   "language": "python",
   "name": "python3"
  },
  "language_info": {
   "codemirror_mode": {
    "name": "ipython",
    "version": 3
   },
   "file_extension": ".py",
   "mimetype": "text/x-python",
   "name": "python",
   "nbconvert_exporter": "python",
   "pygments_lexer": "ipython3",
   "version": "3.10.10"
  },
  "orig_nbformat": 4
 },
 "nbformat": 4,
 "nbformat_minor": 2
}
