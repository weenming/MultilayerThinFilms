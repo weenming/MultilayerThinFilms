{
 "cells": [
  {
   "cell_type": "code",
   "execution_count": null,
   "metadata": {},
   "outputs": [],
   "source": [
    "def plot_layer_thickness(d, materials, ax, fname='final_layer_plot_LTM.png', insert_layer_num=-1, last_insert_layer_thickness=None):\n",
    "    assert d.shape == materials.shape\n",
    "    d_plot = 0\n",
    "    layer_number = d.shape[0]\n",
    "    # scale x label to optical thickness\n",
    "    # d = d * (get_n(750., materials)[1:-1, 0])\n",
    "    for i in range(layer_number):\n",
    "        # 以600nm的折射率表示\n",
    "        n_plot = get_n(750, materials)[i + 1].real\n",
    "        n_last_plot = get_n(750, materials)[i].real\n",
    "        if i == insert_layer_num:\n",
    "            ax.plot([d_plot, d_plot + d[i]], [n_plot, n_plot], color='red',\n",
    "                     label=f'thickness={last_insert_layer_thickness}')\n",
    "        else:\n",
    "            ax.plot([d_plot, d_plot + d[i]], [n_plot, n_plot], color='steelblue')\n",
    "        if i != 0:\n",
    "            # if n_plot > n_last_plot:\n",
    "            #     ax.plot([d_plot, d_plot], [n_plot, n_last_plot], c=cmap(f(d[i])), alpha=0.2)\n",
    "            # else:\n",
    "            #     ax.plot([d_plot, d_plot], [n_plot, n_last_plot], c=cmap(f(d[i - 1])), alpha=0.2)\n",
    "            ax.plot([d_plot, d_plot], [n_plot, n_last_plot], c='steelblue')\n",
    "        d_plot += d[i]\n",
    "    ax.legend()\n",
    "    # ax.set_title(f'layer thickness, {layer_number} layers')\n",
    "    ax.set_xlim(0, 20000)\n",
    "    # ax.set_xlabel('layer optical thickness')\n",
    "    # ax.set_ylabel('refractive index at wl=750nm')\n",
    "    return\n"
   ]
  }
 ],
 "metadata": {
  "language_info": {
   "name": "python"
  },
  "orig_nbformat": 4
 },
 "nbformat": 4,
 "nbformat_minor": 2
}
