{
 "cells": [
  {
   "cell_type": "code",
   "execution_count": null,
   "metadata": {},
   "outputs": [],
   "source": []
  }
 ],
 "metadata": {
  "kernelspec": {
   "display_name": "Python 3.10.9 ('cuda')",
   "language": "python",
   "name": "python3"
  },
  "language_info": {
   "name": "python",
   "version": "3.10.9"
  },
  "orig_nbformat": 4,
  "vscode": {
   "interpreter": {
    "hash": "99323d5a8e602150fc5547383fe7b71b247ac62304d4d5fb5a3f3a77ad4b3dc1"
   }
  }
 },
 "nbformat": 4,
 "nbformat_minor": 2
}
