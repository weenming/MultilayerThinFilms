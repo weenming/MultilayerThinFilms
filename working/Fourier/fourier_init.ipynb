{
 "cells": [
  {
   "cell_type": "code",
   "execution_count": 1,
   "metadata": {},
   "outputs": [],
   "source": [
    "import sys\n",
    "sys.path.append('./../../')\n",
    "sys.path.append('./..')\n",
    "sys.path.append('./../../designer/script/')\n",
    "\n",
    "\n",
    "from film import FreeFormFilm, BaseFilm, TwoMaterialFilm, EqOTFilm\n",
    "from design import BaseDesign\n",
    "from spectrum import BaseSpectrum, Spectrum\n",
    "from optimizer.adam import AdamFreeFormOptimizer\n",
    "\n",
    "from analyze_utils.make_design import make_edgefilter_design, make_reflection_design, make_triband_filter_design, get_minus_filter_spec\n",
    "from utils.loss import calculate_RMS_f_spec\n",
    "from analyze_utils.result_io import save, load\n",
    "from analyze_utils.structure import plot_layer_thickness\n",
    "\n",
    "import numpy as np\n",
    "import matplotlib.pyplot as plt\n",
    "import matplotlib.patches as mpatches\n",
    "import copy\n",
    "import pickle"
   ]
  },
  {
   "cell_type": "code",
   "execution_count": 2,
   "metadata": {},
   "outputs": [],
   "source": [
    "N = 10000\n",
    "\n",
    "def plot_FT(film: BaseFilm, ax):\n",
    "    wls = np.linspace(1 / 40, 1 / 3000, N)\n",
    "    wls = 1 / wls\n",
    "\n",
    "    R = film.get_spec(0., wls).get_R()\n",
    "    T = film.get_spec(0., wls).get_T()\n",
    "    Q = R / T\n",
    "    # Q = R\n",
    "    x = np.fft.fftfreq(wls.shape[0], 2 * (1 / wls[0] - 1 / wls[-1]) / wls.shape[0])\n",
    "    y = np.abs(np.fft.fft(Q)) ** 2\n",
    "    y /= y.sum()\n",
    "    ax.plot(x, y)\n",
    "    # ax.set_xlim(None, None)\n",
    "    ax.set_ylabel('a.u.')\n",
    "    ax.set_xlabel('freq of k: nm (~tau_i) (larger wl range)')\n",
    "\n",
    "    # ax.set_xscale('log')\n",
    "    ax.set_xlim(0, 2 * 2e4)\n",
    "    ax.set_yscale('log')\n",
    "    ax.set_ylim(1e-6, None)\n",
    "\n",
    "def plot_FT_masked(spec, ax):\n",
    "\n",
    "    wls_o_i = 1 / spec.WLS\n",
    "    m = 10\n",
    "    wls_pad_left = 1 / np.linspace(wls_o_i[0], wls_o_i[0] + m * (wls_o_i[0] - wls_o_i[-1]), m * N)\n",
    "    wls_pad_right = 1 / np.linspace(wls_o_i[-1] - m * (wls_o_i[0] - wls_o_i[-1]), wls_o_i[-1], m * N)\n",
    "    wls = np.hstack((wls_pad_left, spec.WLS, wls_pad_right))\n",
    "\n",
    "    Q = spec.get_R() / spec.get_T()\n",
    "    # Q = spec.get_R()\n",
    "    Q = np.hstack((np.zeros_like(wls_pad_left), Q, np.zeros_like(wls_pad_right)))\n",
    "    \n",
    "    x = np.fft.fftfreq(wls.shape[0], 2 * (1 / wls[0] - 1 / wls[-1]) / wls.shape[0])\n",
    "    y = np.abs(np.fft.fft(Q)) ** 2\n",
    "    y /= y.sum()\n",
    "\n",
    "    s = ax.plot(x / 20, y) # \\int f(x) y dlnx  = 1 and \\int y dx = 1 -> f(x) \\propto 1 / x\n",
    "    ax.set_ylabel('a.u.')\n",
    "    ax.set_xlabel('freq of k: nm (~tau_i) (zero padding)')\n",
    "\n",
    "    # ax.set_xscale('log')\n",
    "    ax.set_xlim(0, 2 * 2e4)\n",
    "    ax.set_yscale('log')\n",
    "    ax.set_ylim(1e-6, None)\n",
    "    return s"
   ]
  },
  {
   "cell_type": "code",
   "execution_count": 3,
   "metadata": {},
   "outputs": [],
   "source": [
    "\n",
    "\n",
    "def run_atom_exp(layer_ot, n_size, init=None, no_gd=False, film_gd=False):\n",
    "    # np.random.seed((layer_ot + 255) * n_size % 7)\n",
    "    np.random.seed()\n",
    "    if init is None:\n",
    "        init = lambda x: np.zeros(x) + 2 # 1.5 to 2.5, init ot dif from final ot by: 1/4\n",
    "    n = init(n_size)\n",
    "    \n",
    "    film = EqOTFilm(n, layer_ot * n_size, 1.5)\n",
    "    if no_gd:\n",
    "        return film\n",
    "    optimizer = AdamFreeFormOptimizer(\n",
    "        film, \n",
    "        target, \n",
    "        max_steps=max_step, \n",
    "        alpha=alpha, \n",
    "        record=True, \n",
    "        show=True, \n",
    "        wl_batch_size=None, \n",
    "        n_min=1.5, \n",
    "        n_max=2.5\n",
    "    )\n",
    "    films, losses = optimizer()\n",
    "    if film_gd:\n",
    "        return film\n",
    "    return losses\n",
    "\n",
    "def get_edge_filter_spec(wls):\n",
    "    R = (wls > 700.) * 1 + 0\n",
    "    T = 1 - R\n",
    "    return Spectrum(0., wls, R, (T + 1e-5))\n",
    "\n",
    "# def get_triband_filter_spec(wls):\n",
    "#     R = (440. > wls > 400. or 500. > wls > 460. or 630. > wls > 520. or 700. > wls > 650.) * 1 + 0\n",
    "#     T = 1 - R\n",
    "#     return Spectrum(0., wls, R, (T + 1e-5))\n",
    "\n"
   ]
  },
  {
   "cell_type": "code",
   "execution_count": null,
   "metadata": {},
   "outputs": [],
   "source": [
    "\n",
    "\n",
    "def traverse_params(func):\n",
    "    def wrapper(*args, **kwargs):\n",
    "        for layer_ot in layer_ots:\n",
    "            for n_size in n_sizes:\n",
    "                func(layer_ot, n_size, *args, **kwargs)\n",
    "    return wrapper\n",
    "\n",
    "def plot_film(films, labels):\n",
    "\n",
    "    wls = np.linspace(wl_min, wl_max, N)\n",
    "    wls_inv_int = 1 / np.linspace(1 / wl_max, 1 / wl_min, N)\n",
    "\n",
    "    fig, (ax, ax_ft, ax_ft_mask) = plt.subplots(3, 1)\n",
    "    fig.set_size_inches(10, 15)\n",
    "\n",
    "    for film, label in zip(films, labels):\n",
    "\n",
    "        # spec\n",
    "        ax.plot(wls, film.get_spec(0., wls).get_R(), label=label)\n",
    "        # FT of spec\n",
    "        plot_FT(film, ax_ft) # full\n",
    "        plot_FT_masked(film.get_spec(0., wls_inv_int), ax_ft_mask) # blurred\n",
    "\n",
    "    ax.plot(get_target_spec(wls).WLS, get_target_spec(wls).get_R(), label='target')\n",
    "    s = plot_FT_masked(get_target_spec(wls_inv_int), ax_ft_mask)\n",
    "\n",
    "    # spec\n",
    "    ax.set_xlabel('wl / nm')\n",
    "    ax.set_ylabel('R')\n",
    "    ax.set_ylim(-0.05, 1.05)\n",
    "    ax.legend(bbox_to_anchor=(0.5, 1))\n",
    "\n",
    "    fig.tight_layout()\n",
    "    return fig, ax \n",
    "\n",
    "@traverse_params\n",
    "def ft_exp(layer_ot, n_size, before: bool, init, label):\n",
    "    '''\n",
    "    Parameters:\n",
    "        before: show initialized film if true, else show film after freeform gd design\n",
    "    '''\n",
    "    film = run_atom_exp(\n",
    "        layer_ot, \n",
    "        n_size, \n",
    "        init=init,\n",
    "        no_gd=before, \n",
    "        film_gd=not before, \n",
    "    )\n",
    "    \n",
    "    label += f'{layer_ot: .0f}nm * {n_size} layers'\n",
    "    label = label + ' before gd' if before else label + ' after gd'\n",
    "    label += f'\\nloss: {calculate_RMS_f_spec(film, target): .3f}'\n",
    "    labels.append(label)\n",
    "    films.append(film)\n",
    "\n",
    "# impact of hyperpram on convergence\n",
    "wl_min = 400\n",
    "wl_max = 700\n",
    "target = [get_minus_filter_spec(np.linspace(wl_min, wl_max, 500))]\n",
    "get_target_spec = get_minus_filter_spec\n",
    "\n",
    "max_step = 100\n",
    "alpha=0.01\n",
    "\n",
    "layer_ots = [1]\n",
    "n_sizes = [10000]\n",
    "\n",
    "x0 = 1e4 # nm\n",
    "cor_init = lambda x: np.exp(-(np.arange(x) * layer_ots[0] / x0)) * np.random.random(x) + 1.5\n",
    "\n",
    "films, labels = [], []\n",
    "ft_exp(before=True, init=lambda x: np.random.random(x) + 1.5, label='uniform rand init')\n",
    "ft_exp(before=True, init=lambda x: np.zeros(x) + 1.5, label='const init')\n",
    "ft_exp(before=True, init=cor_init, label='exp init')\n",
    "fig, ax = plot_film(films, labels)\n",
    "fig.savefig(f'./result/init_result/before_gd_{n_sizes[0] * layer_ots[0]}_{wl_max - wl_min}window_{n_sizes[0]}_DOF.png', dpi=300)\n",
    "\n",
    "films, labels = [], []\n",
    "ft_exp(before=False, init=lambda x: np.random.random(x) + 1.5, label='uniform rand init')\n",
    "ft_exp(before=False, init=lambda x: np.zeros(x) + 1.5, label='const init')\n",
    "ft_exp(before=False, init=cor_init, label='exp init')\n",
    "fig, ax = plot_film(films, labels)\n",
    "fig.savefig(f'./result/init_result/after_gd_{n_sizes[0] * layer_ots[0]}_{wl_max - wl_min}window_{n_sizes[0]}_DOF.png', dpi=300)\n"
   ]
  },
  {
   "cell_type": "code",
   "execution_count": 63,
   "metadata": {},
   "outputs": [
    {
     "name": "stdout",
     "output_type": "stream",
     "text": [
      "film has no spec. use 1000 nm\n"
     ]
    },
    {
     "data": {
      "text/plain": [
       "(<Axes: title={'center': 'refractive index distribution at  1000 nm'}, xlabel='position / nm'>,\n",
       " <Figure size 600x100 with 1 Axes>)"
      ]
     },
     "execution_count": 63,
     "metadata": {},
     "output_type": "execute_result"
    },
    {
     "data": {
      "image/png": "[encoded data removed]",
      "text/plain": [
       "<Figure size 600x100 with 1 Axes>"
      ]
     },
     "metadata": {},
     "output_type": "display_data"
    }
   ],
   "source": [
    "plot_layer_thickness(films[0], truncate_thickness=1000)\n"
   ]
  },
  {
   "cell_type": "code",
   "execution_count": null,
   "metadata": {},
   "outputs": [],
   "source": [
    "# rep init\n",
    "layer_ot = 10\n",
    "n_size = 10000\n",
    "\n",
    "rep = 10\n",
    "inits = [\n",
    "    lambda x: np.random.random(x) + 1.5, # most high freq (compared to exp)\n",
    "    lambda x: np.exp(-(np.arange(x) * layer_ot / 1000)) * np.random.random(x) + 1.5, \n",
    "    lambda x: np.exp(-(np.arange(x) * layer_ot / 10000)) * np.random.random(x) + 1.5, \n",
    "    lambda x: np.zeros(x) + 1.5, # least high freq.\n",
    "]\n",
    "\n",
    "wl_min = 400\n",
    "wl_max = 700\n",
    "target = [get_minus_filter_spec(np.linspace(wl_min, wl_max, 500))]\n",
    "get_target_spec = get_minus_filter_spec\n",
    "\n",
    "max_step = 100\n",
    "alpha=0.01\n",
    "\n",
    "losses = []\n",
    "for _ in range(rep):\n",
    "    losses.append([])\n",
    "    for init in inits:\n",
    "        f = run_atom_exp(10, 10000, init, film_gd=True)\n",
    "        losses[-1].append(calculate_RMS_f_spec(f, target))\n",
    "\n",
    "losses = np.array(losses)"
   ]
  },
  {
   "cell_type": "code",
   "execution_count": 8,
   "metadata": {},
   "outputs": [],
   "source": [
    "save('./raw_result/init', losses)"
   ]
  },
  {
   "cell_type": "code",
   "execution_count": 6,
   "metadata": {},
   "outputs": [
    {
     "ename": "TypeError",
     "evalue": "plot_rep_violin() missing 2 required positional arguments: 'label' and 'c'",
     "output_type": "error",
     "traceback": [
      "\u001b[1;31m---------------------------------------------------------------------------\u001b[0m",
      "\u001b[1;31mTypeError\u001b[0m                                 Traceback (most recent call last)",
      "Cell \u001b[1;32mIn[6], line 3\u001b[0m\n\u001b[0;32m      1\u001b[0m \u001b[39mfrom\u001b[39;00m \u001b[39manalyze_utils\u001b[39;00m\u001b[39m.\u001b[39;00m\u001b[39mviolin_plot\u001b[39;00m \u001b[39mimport\u001b[39;00m plot_rep_violin\n\u001b[0;32m      2\u001b[0m fig, ax \u001b[39m=\u001b[39m plt\u001b[39m.\u001b[39msubplots(\u001b[39m1\u001b[39m, \u001b[39m1\u001b[39m)\n\u001b[1;32m----> 3\u001b[0m plot_rep_violin(ax, np\u001b[39m.\u001b[39;49marange(\u001b[39mlen\u001b[39;49m(inits)), losses) \u001b[39m# when more comp resource, exp with : different OT\u001b[39;00m\n\u001b[0;32m      4\u001b[0m ax\u001b[39m.\u001b[39mset_xticks(np\u001b[39m.\u001b[39marange(\u001b[39mlen\u001b[39m(inits)))\n\u001b[0;32m      5\u001b[0m ax\u001b[39m.\u001b[39mset_xticklabels([\u001b[39m'\u001b[39m\u001b[39muni-rand (inf decay)\u001b[39m\u001b[39m'\u001b[39m, \u001b[39m'\u001b[39m\u001b[39m1000nm decay rand\u001b[39m\u001b[39m'\u001b[39m, \u001b[39m'\u001b[39m\u001b[39m10000nm decay rand\u001b[39m\u001b[39m'\u001b[39m, \u001b[39m'\u001b[39m\u001b[39mconst (0 decay)\u001b[39m\u001b[39m'\u001b[39m])\n",
      "\u001b[1;31mTypeError\u001b[0m: plot_rep_violin() missing 2 required positional arguments: 'label' and 'c'"
     ]
    },
    {
     "data": {
      "image/png": "[encoded data removed]",
      "text/plain": [
       "<Figure size 640x480 with 1 Axes>"
      ]
     },
     "metadata": {},
     "output_type": "display_data"
    }
   ],
   "source": [
    "from analyze_utils.violin_plot import plot_rep_violin\n",
    "fig, ax = plt.subplots(1, 1)\n",
    "plot_rep_violin(ax, np.arange(len(inits)), losses) # when more comp resource, exp with : different OT\n",
    "ax.set_xticks(np.arange(len(inits)))\n",
    "ax.set_xticklabels(['uni-rand (inf decay)', '1000nm decay rand', '10000nm decay rand', 'const (0 decay)'])\n",
    "\n",
    "ax.set_xlabel('init method')\n",
    "ax.set_ylabel('loss after 100 steps GD')"
   ]
  }
 ],
 "metadata": {
  "kernelspec": {
   "display_name": "TFNN",
   "language": "python",
   "name": "python3"
  },
  "language_info": {
   "codemirror_mode": {
    "name": "ipython",
    "version": 3
   },
   "file_extension": ".py",
   "mimetype": "text/x-python",
   "name": "python",
   "nbconvert_exporter": "python",
   "pygments_lexer": "ipython3",
   "version": "3.10.9"
  },
  "orig_nbformat": 4
 },
 "nbformat": 4,
 "nbformat_minor": 2
}
