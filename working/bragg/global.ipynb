{
 "cells": [
  {
   "cell_type": "code",
   "execution_count": 2,
   "metadata": {},
   "outputs": [],
   "source": [
    "import sys\n",
    "sys.path.append('./../../designer/script/')\n",
    "sys.path.append('./../')\n",
    "sys.path.append('./../../')\n",
    "\n",
    "import film as film_mod\n",
    "import design as design_mod\n",
    "import spectrum as spec_mod\n",
    "from optimizer.adam import AdamThicknessOptimizer\n",
    "from utils.loss import calculate_RMS_f_spec\n",
    "\n",
    "from analyze_utils.make_design import make_reflection_design\n",
    "\n",
    "import numpy as np\n",
    "import matplotlib.pyplot as plt\n",
    "import pickle\n",
    "import copy\n",
    "\n",
    "from analyze_utils.structure import plot_layer_thickness\n",
    "from analyze_utils.result_io import load\n",
    "from utils.loss import calculate_RMS_f_spec, calculate_RMS\n",
    "from utils.get_n import get_n_SiO2, get_n_TiO2\n",
    "\n",
    "import matplotlib.cm as cmap\n",
    "import matplotlib.patches as mpatches"
   ]
  },
  {
   "cell_type": "markdown",
   "metadata": {},
   "source": [
    "## Different OT - Bragg structure"
   ]
  },
  {
   "cell_type": "code",
   "execution_count": 3,
   "metadata": {},
   "outputs": [],
   "source": [
    "def make_rand_new_film_dif_gt(gt):\n",
    "    layers = 200\n",
    "    d = np.random.random(layers) * gt / layers * 2 # smaller ot allows for fewer configurations\n",
    "    film = film_mod.TwoMaterialFilm('SiO2', 'TiO2', 'SiO2', d)\n",
    "    return film\n",
    "\n",
    "# Experiment setup (thickness GD)\n",
    "design = make_reflection_design(make_rand_new_film_dif_gt(0))\n",
    "target: list[spec_mod.BaseSpectrum] = design.target_specs\n",
    "\n",
    "rep = 50\n",
    "gts = np.linspace(200, 5000, 20)\n",
    "\n",
    "\n",
    "# Run Experiment!\n",
    "# loss_rep_ls = []\n",
    "# film_rep_ls = []\n",
    "# for rep_i in range(rep):\n",
    "#     loss_ls = []\n",
    "#     film_ls = []\n",
    "#     print(rep_i / rep)\n",
    "#     for gt in gts:\n",
    "#         adam_optimizer = AdamThicknessOptimizer(\n",
    "#             make_rand_new_film_dif_gt(gt), \n",
    "#             target, \n",
    "#             500, \n",
    "#             alpha=1, \n",
    "#             show=False, \n",
    "#             record=True, \n",
    "#             batch_size_wl=50\n",
    "#         )\n",
    "#         films, losses = adam_optimizer()\n",
    "#         loss_ls.append(losses)\n",
    "#         film_ls.append(films)\n",
    "#     loss_rep_ls.append(loss_ls)\n",
    "#     film_rep_ls.append(film_ls)\n",
    "\n",
    "# working_file = './gts'\n",
    "# with open(working_file, 'wb') as file:\n",
    "#     pickle.dump({'film': film_rep_ls, 'loss': loss_rep_ls}, file)"
   ]
  },
  {
   "cell_type": "code",
   "execution_count": 4,
   "metadata": {},
   "outputs": [],
   "source": [
    "working_file = './raw_result/gts'\n",
    "\n",
    "with open(working_file, 'rb') as file:\n",
    "    res = pickle.load(file)\n",
    "    film_rep_ls = res['film']\n",
    "    loss_rep_ls = res['loss']\n"
   ]
  },
  {
   "cell_type": "code",
   "execution_count": 5,
   "metadata": {},
   "outputs": [],
   "source": [
    "# Process loss_rep (thickness GD)\n",
    "# loss_rep_arr = np.array([[l[-1] for l in rep] for rep in loss_rep_ls])\n",
    "loss_rep_arr = np.array([[min(losses) for losses in losses_ls] for losses_ls in loss_rep_ls])\n"
   ]
  },
  {
   "cell_type": "code",
   "execution_count": 6,
   "metadata": {},
   "outputs": [],
   "source": [
    "# analyze helpers\n",
    "\n",
    "def calculate_dif_Bragg(film: film_mod.TwoMaterialFilm, dA, dB):\n",
    "    # NOTE: film keeps the material of the first layer in remove negative layers.\n",
    "    # The first layer is SiO2.\n",
    "    d = film.get_d()\n",
    "    dif = 0\n",
    "    for i, di in enumerate(d):\n",
    "        dif += min(abs(di - [dA, dB][i % 2]), abs(di - 0))\n",
    "    return dif / d.sum()\n",
    "\n",
    "def plot_rep(ax, x, arr, label):\n",
    "    arr_mean = arr.mean(axis=0)\n",
    "    arr_std = arr.std(axis=0)\n",
    "    \n",
    "    c = next(c_gen)\n",
    "    ax.plot(x, arr_mean, label=label, c=c)\n",
    "    ax.fill_between(x, arr_mean - arr_std, arr_mean + arr_std, alpha=0.4, color=c)\n",
    "    return ax\n",
    "\n",
    "def plot_rep_violin(ax, x, arr, label):\n",
    "    c = next(c_gen)\n",
    "    print(arr.shape, len(x))\n",
    "    arr_ls = [arr[:, i] for i in range(arr.shape[1])]\n",
    "    s = ax.violinplot(\n",
    "        arr_ls, \n",
    "        x, \n",
    "        widths=100\n",
    "    )\n",
    "    \n",
    "    return mpatches.Patch(\n",
    "        color=s['bodies'][0].get_facecolor().flatten(), \n",
    "        label=label\n",
    "    )\n",
    "\n",
    "# make reference: DBR\n",
    "def loss_DBR(gt):\n",
    "    d_tot = 0\n",
    "    i = 0\n",
    "    while True:\n",
    "        this_d = [d_TiO2, d_SiO2][i % 2]\n",
    "        d_tot += this_d\n",
    "        if d_tot > gt:\n",
    "            break\n",
    "        i += 1\n",
    "    last_d = this_d - (d_tot - gt)\n",
    "    d = np.array([d_TiO2, d_SiO2] * (i // 2) + [d_TiO2] * (i % 2) + [last_d])\n",
    "    film = film_mod.TwoMaterialFilm('TiO2', 'SiO2', 'SiO2', d)\n",
    "    return calculate_RMS_f_spec(film, target)\n",
    "\n",
    "def color():\n",
    "    i = 0\n",
    "    while True:\n",
    "        yield f'C{i}'\n",
    "        i += 1"
   ]
  },
  {
   "cell_type": "code",
   "execution_count": 6,
   "metadata": {},
   "outputs": [],
   "source": [
    "# load free form result\n",
    "free_films_rep, free_losses_rep, free_best_film_rep = load('./raw_result/back_reflector_result')"
   ]
  },
  {
   "cell_type": "code",
   "execution_count": 7,
   "metadata": {},
   "outputs": [],
   "source": [
    "\n",
    "\n",
    "# Calculate dif!\n",
    "wl = 800.\n",
    "d_SiO2 = wl / 4 / get_n_SiO2(wl)\n",
    "d_TiO2 = wl / 4 / get_n_TiO2(wl)\n",
    "\n",
    "dif = []\n",
    "for films in film_rep_ls:\n",
    "    dif.append([])\n",
    "    for film in [f[-1] for f in films]:\n",
    "        film.remove_negative_thickness_layer()\n",
    "        # plot_thickness_idx(film)\n",
    "        # print(calculate_RMS_f_spec(film, target))\n",
    "\n",
    "        dif[-1].append(calculate_dif_Bragg(film, d_SiO2, d_TiO2))\n",
    "dif = np.array(dif)"
   ]
  },
  {
   "cell_type": "code",
   "execution_count": 9,
   "metadata": {},
   "outputs": [
    {
     "name": "stdout",
     "output_type": "stream",
     "text": [
      "(50, 20) 20\n"
     ]
    },
    {
     "data": {
      "text/plain": [
       "<matplotlib.legend.Legend at 0x208954134f0>"
      ]
     },
     "execution_count": 9,
     "metadata": {},
     "output_type": "execute_result"
    },
    {
     "data": {
      "image/png": "[encoded data removed]",
      "text/plain": [
       "<Figure size 640x480 with 2 Axes>"
      ]
     },
     "metadata": {},
     "output_type": "display_data"
    }
   ],
   "source": [
    "c_gen = color()\n",
    "fig, (ax, ax2) = plt.subplots(2, 1, sharex=True)\n",
    "# thickness gd\n",
    "violin_handle_1 = plot_rep_violin(ax, gts, loss_rep_arr, 'Thickness GD')\n",
    "# DBR\n",
    "gts_dense = np.linspace(gts[0], gts[-1], 100)\n",
    "ax.plot(gts_dense, [loss_DBR(gt) for gt in gts_dense], label='Bragg', c='C2')\n",
    "# free form\n",
    "# plot_rep(\n",
    "#     ax, \n",
    "#     np.array([films[-1].get_d().sum() for films in free_films_rep[0]]), \n",
    "#     np.array([[min(l) for l in ls] for ls in free_losses_rep]), \n",
    "#     'free_form'\n",
    "# )\n",
    "\n",
    "ax.set_ylabel('loss')\n",
    "auto_handles, _ = ax.get_legend_handles_labels()\n",
    "auto_handles.append(violin_handle_1)\n",
    "ax.legend(\n",
    "    handles=auto_handles, \n",
    "    loc='lower left'\n",
    ")\n",
    "ax.set_xlabel('geometric thickness / nm')\n",
    "ax.set_yscale('log')\n",
    "ax.set_xlim(0, 5000)\n",
    "# ax.set_ylim(1e-5, 1)\n",
    "\n",
    "\n",
    "\n",
    "c_gen = color()\n",
    "\n",
    "ax2 = plot_rep(ax2, gts, dif, 'dif')\n",
    "ax2.set_ylabel('dif')\n",
    "ax2.legend(loc='lower right')\n",
    "\n",
    "# ax2.set_yscale('log')\n"
   ]
  },
  {
   "cell_type": "code",
   "execution_count": null,
   "metadata": {},
   "outputs": [],
   "source": [
    "\n",
    "def plot_thickness_idx(f):\n",
    "    d = f.get_d()\n",
    "    fig, ax = plt.subplots(1, 1)\n",
    "    wl = np.array([750.])\n",
    "    s = ax.scatter(range(d.shape[0]), d, marker='o', cmap='coolwarm', c=f.calculate_n_array(wl)[0, :])\n",
    "    cbar = fig.colorbar(s)\n",
    "    cbar.set_label('n')\n",
    "\n",
    "    # target: 800 nm DBR\n",
    "    wl = 800.\n",
    "    d_SiO2 = wl / 4 / get_n_SiO2(wl)\n",
    "    d_TiO2 = wl / 4 / get_n_TiO2(wl)\n",
    "    \n",
    "    ax.plot([0, d.shape[0]], [d_SiO2, d_SiO2], c=cmap.get_cmap('coolwarm')(0), alpha=0.4, ls='--')\n",
    "    ax.plot([0, d.shape[0]], [d_TiO2, d_TiO2], c=cmap.get_cmap('coolwarm')(0.99), alpha=0.4, ls='--')\n",
    "    ax.set_xlabel('index')\n",
    "    ax.set_ylabel('thickness')\n",
    "    return fig, ax\n",
    "\n",
    "f: film_mod.TwoMaterialFilm = film_rep_ls[6][0][-1] # 5, 19, 50, 64, 68, 89\n",
    "f.add_spec_param(target[0].INC_ANG, target[0].WLS)\n",
    "f.remove_negative_thickness_layer()\n",
    "\n",
    "plot_layer_thickness(f)\n",
    "_, ax = plot_thickness_idx(f)\n",
    "ax.set_title(f'loss: {calculate_RMS_f_spec(f, target)}')"
   ]
  }
 ],
 "metadata": {
  "kernelspec": {
   "display_name": "cuda",
   "language": "python",
   "name": "python3"
  },
  "language_info": {
   "codemirror_mode": {
    "name": "ipython",
    "version": 3
   },
   "file_extension": ".py",
   "mimetype": "text/x-python",
   "name": "python",
   "nbconvert_exporter": "python",
   "pygments_lexer": "ipython3",
   "version": "3.10.9"
  },
  "orig_nbformat": 4
 },
 "nbformat": 4,
 "nbformat_minor": 2
}
