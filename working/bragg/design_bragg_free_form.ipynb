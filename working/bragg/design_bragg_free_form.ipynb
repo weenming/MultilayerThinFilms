{
 "cells": [
  {
   "cell_type": "code",
   "execution_count": 1,
   "metadata": {},
   "outputs": [],
   "source": [
    "import sys\n",
    "sys.path.append('./../../')\n",
    "sys.path.append('./..')\n",
    "sys.path.append('./../../designer/script/')\n",
    "\n",
    "\n",
    "from film import FreeFormFilm, BaseFilm\n",
    "from design import BaseDesign\n",
    "from spectrum import BaseSpectrum\n",
    "from optimizer.adam import AdamFreeFormOptimizer\n",
    "\n",
    "from analyze_utils.make_design import make_edgefilter_design, make_reflection_design, make_three_line_filter_design\n",
    "from utils.loss import calculate_RMS_f_spec\n",
    "from analyze_utils.result_io import save, load\n",
    "from analyze_utils.structure import plot_layer_thickness\n",
    "\n",
    "import numpy as np\n",
    "import matplotlib.pyplot as plt\n",
    "import copy\n",
    "import pickle"
   ]
  },
  {
   "cell_type": "code",
   "execution_count": 7,
   "metadata": {},
   "outputs": [],
   "source": [
    "# design = make_edgefilter_design()\n",
    "design = make_reflection_design(wls=np.linspace(695, 939, 500))\n",
    "reps = 50\n",
    "gts = np.linspace(200, 5000, 20)\n",
    "n_size = 2000\n",
    "n_min = 1.5\n",
    "n_max = 2.5\n",
    "\n",
    "# adam optimizer parameters\n",
    "alpha = 0.1\n",
    "batch_size = 200\n",
    "\n",
    "def exp(n_size, total_gt, design):\n",
    "    np.random.seed()\n",
    "    init_n = np.random.random(n_size) * 3 + 1\n",
    "    init_film = FreeFormFilm(init_n, total_gt, substrate='SiO2')\n",
    "\n",
    "    adam_optimizer = AdamFreeFormOptimizer(\n",
    "        init_film, \n",
    "        design.target_specs, \n",
    "        max_steps=1000, \n",
    "        alpha=alpha, \n",
    "        record=True, \n",
    "        show=False, \n",
    "        n_min=n_min, \n",
    "        n_max=n_max,\n",
    "        wl_batch_size=batch_size\n",
    "    )\n",
    "\n",
    "    films, losses = adam_optimizer.optimize()\n",
    "    return films, losses, copy.deepcopy(init_film)\n",
    "\n",
    "def scan_gts(wl_min, wl_max):\n",
    "\n",
    "    films_rep, losses_rep, best_film_rep = [], [], []\n",
    "    for rep in range(reps):\n",
    "        print(rep / reps)\n",
    "        films_rep.append([])\n",
    "        losses_rep.append([])\n",
    "        best_film_rep.append([])\n",
    "        for gt in gts:\n",
    "            films, losses, best_film = exp(n_size, gt, design)\n",
    "            films_rep[-1].append(films)\n",
    "            losses_rep[-1].append(losses)\n",
    "            best_film_rep[-1].append(best_film)\n",
    "    return films_rep, losses_rep, best_film_rep, design\n"
   ]
  },
  {
   "attachments": {},
   "cell_type": "markdown",
   "metadata": {},
   "source": [
    "dependence on hyperparams"
   ]
  },
  {
   "cell_type": "code",
   "execution_count": 3,
   "metadata": {},
   "outputs": [],
   "source": [
    "def arr_to_fill(ax, x, arr, rep_axis=0, label=''):\n",
    "    arr = np.array(arr)\n",
    "    mean = arr.mean(axis=rep_axis)\n",
    "    std = arr.std(axis=rep_axis)\n",
    "\n",
    "    ax.plot(x, mean, label=label,)\n",
    "    ax.fill_between(x, mean - std, mean + std, label='label'+' err bar (1 sigma)', alpha=0.4)\n",
    "\n",
    "def show_scan_gts(gts, best_film_rep, design, fig=None, ax=None):\n",
    "    if fig is None or ax is None:\n",
    "        fig, ax = plt.subplots(1, 1)\n",
    "    best_loss_rep = [[\n",
    "            np.log10(calculate_RMS_f_spec(\n",
    "                best_film, \n",
    "                design.target_specs, \n",
    "            )) for best_film in best_film_ls] \n",
    "        for best_film_ls in best_film_rep]\n",
    "\n",
    "    arr_to_fill(ax, gts, best_loss_rep, label=f'target wl range: {design.target_specs[0].WLS[0]: .0f} to {design.target_specs[0].WLS[-1]: .0f} nm')\n",
    "    ax.legend()\n",
    "    ax.set_xlabel('initial gt')\n",
    "    ax.set_ylabel('log10 loss')\n",
    "    return fig, ax "
   ]
  },
  {
   "cell_type": "code",
   "execution_count": 8,
   "metadata": {},
   "outputs": [
    {
     "name": "stdout",
     "output_type": "stream",
     "text": [
      "0.0\n",
      "0.02\n",
      "0.04\n",
      "0.06\n",
      "0.08\n",
      "0.1\n",
      "0.12\n",
      "0.14\n",
      "0.16\n",
      "0.18\n",
      "0.2\n",
      "0.22\n",
      "0.24\n",
      "0.26\n"
     ]
    }
   ],
   "source": [
    "\n",
    "fig, ax = plt.subplots(1, 1)\n",
    "\n",
    "films_rep, losses_rep, best_film_rep, design = scan_gts(None, None)\n",
    "show_scan_gts(gts, best_film_rep, design, fig, ax)\n",
    "save(f'./raw_result/bask_reflector_result_good', losses_rep, best_film_rep, design)\n",
    "\n",
    "# ~5600 mins\n",
    "    "
   ]
  },
  {
   "cell_type": "code",
   "execution_count": 100,
   "metadata": {},
   "outputs": [
    {
     "name": "stdout",
     "output_type": "stream",
     "text": [
      "0.011828623277335679\n",
      "film has no spec. use 1000 nm\n"
     ]
    },
    {
     "name": "stderr",
     "output_type": "stream",
     "text": [
      "c:\\Users\\rfeng6\\.conda\\envs\\cuda\\lib\\site-packages\\matplotlib\\cbook\\__init__.py:1369: ComplexWarning: Casting complex values to real discards the imaginary part\n",
      "  return np.asarray(x, float)\n"
     ]
    },
    {
     "data": {
      "text/plain": [
       "(<AxesSubplot: title={'center': 'refractive index distribution at  1000 nm'}, xlabel='position / nm'>,\n",
       " <Figure size 600x100 with 1 Axes>)"
      ]
     },
     "execution_count": 100,
     "metadata": {},
     "output_type": "execute_result"
    },
    {
     "data": {
      "image/png": "[encoded data removed]",
      "text/plain": [
       "<Figure size 640x480 with 1 Axes>"
      ]
     },
     "metadata": {},
     "output_type": "display_data"
    },
    {
     "data": {
      "image/png": "[encoded data removed]",
      "text/plain": [
       "<Figure size 600x100 with 1 Axes>"
      ]
     },
     "metadata": {},
     "output_type": "display_data"
    }
   ],
   "source": [
    "for rep in range(1):\n",
    "    print(calculate_RMS_f_spec(\n",
    "            best_film_rep[rep][-1], \n",
    "            make_reflection_design(wls=np.linspace(400, 1500, 500)).target_specs\n",
    "        )) # well I think this is when the grad explodes... using smaller grad\n",
    "\n",
    "\n",
    "fig, ax = plt.subplots(1, 1)\n",
    "for gt, losses in zip(gts, losses_rep[-1]):\n",
    "    ax.plot(losses, label=f'{gt}')\n",
    "ax.legend()\n",
    "ax.set_yscale('log')\n",
    "\n",
    "plot_layer_thickness(best_film_rep[-1][-1])"
   ]
  },
  {
   "attachments": {},
   "cell_type": "markdown",
   "metadata": {},
   "source": [
    "save & load result"
   ]
  },
  {
   "cell_type": "code",
   "execution_count": 40,
   "metadata": {
    "notebookRunGroups": {
     "groupValue": "2"
    }
   },
   "outputs": [],
   "source": [
    "from analyze_utils.result_io import save, load\n",
    "save('back_reflector_result', films_rep, losses_rep, best_film_rep)\n",
    "# films_rep, losses_rep = load('tmp')\n"
   ]
  },
  {
   "attachments": {},
   "cell_type": "markdown",
   "metadata": {},
   "source": [
    "plot film structure"
   ]
  },
  {
   "cell_type": "code",
   "execution_count": null,
   "metadata": {},
   "outputs": [],
   "source": [
    "from analyze_utils.structure import plot_layer_thickness\n",
    "\n",
    "plot_i = [1, 3, -1]\n",
    "param_id = 10 # OT idx. 0: min; -1: max\n",
    "rep_id = 0\n",
    "truncate_thickness = 1000\n",
    "for i in plot_i[::-1]:\n",
    "    f: BaseFilm = copy.deepcopy(films_rep[rep_id][param_id][i])\n",
    "\n",
    "    wl = 700\n",
    "    ax, fig = plot_layer_thickness(f, n_at_wl=wl, truncate_thickness=truncate_thickness)\n",
    "    ax.set_title(f'step {i if i >= 0 else len(films_rep[rep_id][param_id]) + i}, truncated to {truncate_thickness}')\n",
    "    # fig.savefig(fpath + f'step_{i}.png', dpi=300, bbox_inches='tight')\n",
    "\n",
    "    ax, fig = plot_layer_thickness(films_rep[rep_id][param_id][i])\n",
    "    ax.set_title(f'step {i if i >= 0 else len(films_rep[rep_id][param_id]) + i}')\n",
    "    # fig.savefig(fpath + f'all_depth_step_{i}.png', dpi=300, bbox_inches='tight')\n",
    "\n",
    "    # 0-th iter, not yet have spectrum.\n",
    "    fig, ax = plt.subplots(1, 1)\n",
    "    ax.plot(films_rep[rep_id][param_id][i].get_all_spec_list()[0].WLS, films_rep[rep_id][param_id][i].get_all_spec_list()[0].get_R())"
   ]
  }
 ],
 "metadata": {
  "kernelspec": {
   "display_name": "cuda",
   "language": "python",
   "name": "python3"
  },
  "language_info": {
   "codemirror_mode": {
    "name": "ipython",
    "version": 3
   },
   "file_extension": ".py",
   "mimetype": "text/x-python",
   "name": "python",
   "nbconvert_exporter": "python",
   "pygments_lexer": "ipython3",
   "version": "3.10.9"
  },
  "orig_nbformat": 4
 },
 "nbformat": 4,
 "nbformat_minor": 2
}
