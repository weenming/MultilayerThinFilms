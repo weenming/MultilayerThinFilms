{
    "cells": [
        {
            "cell_type": "code",
            "execution_count": 96,
            "metadata": {},
            "outputs": [
                {
                    "name": "stdout",
                    "output_type": "stream",
                    "text": [
                        "The autoreload extension is already loaded. To reload it, use:\n",
                        "  %reload_ext autoreload\n"
                    ]
                }
            ],
            "source": [
                "%load_ext autoreload\n",
                "%autoreload 2\n",
                "import sys\n",
                "\n",
                "sys.path.append('./../../../../')\n",
                "sys.path.append('./../../../script/')\n",
                "sys.path.append('./')\n",
                "sys.path.append('./designer/script/')\n",
                "\n",
                "from tmm.get_E import get_E_free\n",
                "from tmm.get_jacobi_arb_adjoint import get_jacobi_E_free_form\n",
                "from tmm.get_jacobi_adjoint import get_jacobi_adjoint\n",
                "from tmm.get_spectrum import get_spectrum_free\n",
                "from film import FreeFormFilm, TwoMaterialFilm\n",
                "from tmm.autograd_wrapper import *\n",
                "from tmm.E_to_spectrum import *\n",
                "\n",
                "import matplotlib.pyplot as plt\n",
                "import numpy as np\n",
                "\n"
            ]
        },
        {
            "cell_type": "markdown",
            "metadata": {},
            "source": [
                "# Manual diff"
            ]
        },
        {
            "cell_type": "code",
            "execution_count": 10,
            "metadata": {},
            "outputs": [],
            "source": [
                "\n"
            ]
        },
        {
            "cell_type": "markdown",
            "metadata": {},
            "source": [
                "# autograd r"
            ]
        },
        {
            "cell_type": "code",
            "execution_count": 126,
            "metadata": {},
            "outputs": [],
            "source": [
                "# autograd\n",
                "\n",
                "# set exp \n",
                "wls = np.linspace(500, 1000, 500)\n",
                "inc_ang = 60.\n",
                "np.random.seed(0)\n",
                "film = FreeFormFilm(np.random.rand(20) * 1 + 1.5, 1000, 2)\n",
                "d = film.get_d()\n",
                "n_layers, n_sub, n_inc = film.calculate_n_array(wls), film.calculate_n_sub(wls), film.calculate_n_inc(wls)\n",
                "\n",
                "\n",
                "# objective: 0.5\n",
                "def loss_fn(E):\n",
                "    e = E_to_R(E)\n",
                "    dif = e - 0.5\n",
                "    return dif.square().sum()\n",
                "\n",
                "jacobi_auto = get_jacobi_warpper(loss_fn)\n",
                "jacobi = np.zeros((wls.shape[0] * 4, d.shape[0], 2, 2))\n",
                "\n",
                "\n",
                "jacobi = jacobi_auto(    \n",
                "    jacobi,\n",
                "    wls,\n",
                "    d,\n",
                "    n_layers,\n",
                "    n_sub,\n",
                "    n_inc,\n",
                "    inc_ang,    \n",
                ")\n",
                "\n",
                "E_gt = np.zeros((wls.shape[0] * 2, 2), dtype='complex128')\n",
                "get_E_free(\n",
                "    E_gt, \n",
                "    wls, \n",
                "    film.get_d(), \n",
                "    film.calculate_n_array(wls), \n",
                "    film.calculate_n_sub(wls), \n",
                "    film.calculate_n_inc(wls), \n",
                "    inc_ang, \n",
                ")\n",
                "\n"
            ]
        },
        {
            "cell_type": "code",
            "execution_count": 127,
            "metadata": {},
            "outputs": [
                {
                    "name": "stdout",
                    "output_type": "stream",
                    "text": [
                        "tensor(-1.1591e-05, dtype=torch.float64)\n",
                        "tensor(-1.1596e-05-0.0039j, device='cuda:0', dtype=torch.complex128)\n"
                    ]
                },
                {
                    "ename": "ValueError",
                    "evalue": "ex: jacobi_E_wrt_M * jacobi_M_wrt_x, need to change autograd_wrapper",
                    "output_type": "error",
                    "traceback": [
                        "\u001b[0;31m---------------------------------------------------------------------------\u001b[0m",
                        "\u001b[0;31mValueError\u001b[0m                                Traceback (most recent call last)",
                        "Cell \u001b[0;32mIn[127], line 15\u001b[0m\n\u001b[1;32m     12\u001b[0m \u001b[39mprint\u001b[39m((loss_new \u001b[39m-\u001b[39m loss_old) \u001b[39m*\u001b[39m \u001b[39m1e5\u001b[39m)\n\u001b[1;32m     13\u001b[0m \u001b[39mprint\u001b[39m(jacobi_y_wrt_E[\u001b[39m0\u001b[39m, \u001b[39m0\u001b[39m])\n\u001b[0;32m---> 15\u001b[0m \u001b[39mraise\u001b[39;00m \u001b[39mValueError\u001b[39;00m(\u001b[39m'\u001b[39m\u001b[39mex: jacobi_E_wrt_M * jacobi_M_wrt_x, need to change autograd_wrapper\u001b[39m\u001b[39m'\u001b[39m)\n\u001b[1;32m     16\u001b[0m \u001b[39mprint\u001b[39m((ex \u001b[39m*\u001b[39m jacobi_y_wrt_E\u001b[39m.\u001b[39mreshape(\u001b[39m-\u001b[39m\u001b[39m1\u001b[39m, \u001b[39m1\u001b[39m, \u001b[39m1\u001b[39m, \u001b[39m1\u001b[39m)\u001b[39m.\u001b[39mconj())\u001b[39m.\u001b[39msum((\u001b[39m0\u001b[39m, \u001b[39m-\u001b[39m\u001b[39m1\u001b[39m, \u001b[39m-\u001b[39m\u001b[39m2\u001b[39m)))\n\u001b[1;32m     18\u001b[0m E_gt \u001b[39m=\u001b[39m np\u001b[39m.\u001b[39mzeros((wls\u001b[39m.\u001b[39mshape[\u001b[39m0\u001b[39m] \u001b[39m*\u001b[39m \u001b[39m2\u001b[39m, \u001b[39m2\u001b[39m), dtype\u001b[39m=\u001b[39m\u001b[39m'\u001b[39m\u001b[39mcomplex128\u001b[39m\u001b[39m'\u001b[39m)\n",
                        "\u001b[0;31mValueError\u001b[0m: ex: jacobi_E_wrt_M * jacobi_M_wrt_x, need to change autograd_wrapper"
                    ]
                }
            ],
            "source": [
                "\n",
                "\n",
                "E = torch.tensor(E_gt, requires_grad=True, device='cuda')\n",
                "jacobi_y_wrt_E = torch.autograd.grad(loss_fn(E), E)[0].t() # t for correct subsequent reshape\n",
                "\n",
                "loss_old = loss_fn(torch.tensor(E_gt))\n",
                "E_new = E_gt.copy()\n",
                "E_new[0, 0] += 1e-5\n",
                "loss_new = loss_fn(torch.tensor(E_new))\n",
                "print((loss_new - loss_old) * 1e5)\n",
                "print(jacobi_y_wrt_E[0, 0])\n",
                "\n",
                "raise ValueError('ex: jacobi_E_wrt_M * jacobi_M_wrt_x, need to change autograd_wrapper')\n",
                "print((ex * jacobi_y_wrt_E.reshape(-1, 1, 1, 1).conj()).sum((0, -1, -2)))\n",
                "\n",
                "E_gt = np.zeros((wls.shape[0] * 2, 2), dtype='complex128')\n",
                "get_E_free(\n",
                "    E_gt, \n",
                "    wls, \n",
                "    film.get_d(), \n",
                "    film.calculate_n_array(wls), \n",
                "    film.calculate_n_sub(wls), \n",
                "    film.calculate_n_inc(wls), \n",
                "    inc_ang, \n",
                ")\n",
                "E_gt_n = np.zeros((wls.shape[0] * 2, 2), dtype='complex128')\n",
                "d_old = film.get_d().copy()\n",
                "d = d_old.copy()\n",
                "d[0] += 1e-5\n",
                "film.update_d(d)\n",
                "get_E_free(\n",
                "    E_gt_n, \n",
                "    wls, \n",
                "    film.get_d(), \n",
                "    film.calculate_n_array(wls), \n",
                "    film.calculate_n_sub(wls), \n",
                "    film.calculate_n_inc(wls), \n",
                "    inc_ang, \n",
                ")\n",
                "film.update_d(d_old)\n",
                "\n",
                "print((loss_fn(torch.tensor(E_gt_n)) - loss_fn(torch.tensor(E_gt))) * 1e5)\n"
            ]
        },
        {
            "cell_type": "code",
            "execution_count": 128,
            "metadata": {},
            "outputs": [
                {
                    "name": "stdout",
                    "output_type": "stream",
                    "text": [
                        "gt: analytic\n",
                        "[ 0.18052409  0.08108158  0.08882581  0.04742077  0.05128622 -0.10153213\n",
                        " -0.15792294  0.09287371  0.05210349  0.01948709  0.12095558  0.06449845\n",
                        "  0.07955915 -0.15797572  0.07643038  0.08948597  0.0305142   0.09187629\n",
                        "  0.13207279  0.14224309]\n",
                        "gt: diff\n",
                        "[ 0.18052413  0.08108161  0.08882583  0.04742078  0.05128625 -0.1015321\n",
                        " -0.15792294  0.09287373  0.05210351  0.01948711  0.1209556   0.06449847\n",
                        "  0.07955917 -0.15797566  0.07643042  0.08948602  0.03051424  0.0918763\n",
                        "  0.13207279  0.1422431 ]\n",
                        "autograd\n",
                        "tensor([ 0.1216,  0.0151,  0.1483,  0.1159,  0.0400, -0.1492, -0.1842,  0.1103,\n",
                        "         0.0673,  0.0338,  0.1159,  0.0397,  0.1019, -0.1390,  0.0673,  0.0311,\n",
                        "        -0.0174,  0.1133,  0.1636,  0.1397], device='cuda:0',\n",
                        "       dtype=torch.float64)\n"
                    ]
                }
            ],
            "source": [
                "jacobian_gt = np.zeros((wls.shape[0] * 2, film.get_d().shape[0]))\n",
                "get_jacobi_adjoint(\n",
                "    jacobian_gt, wls, film.get_d(), \n",
                "    film.calculate_n_array(wls), \n",
                "    film.calculate_n_sub(wls), \n",
                "    film.calculate_n_inc(wls), \n",
                "    inc_ang, \n",
                ")\n",
                "spec_gt = np.zeros((wls.shape[0] * 2))\n",
                "get_spectrum_free(\n",
                "    spec_gt, \n",
                "    wls, \n",
                "    film.get_d(), \n",
                "    film.calculate_n_array(wls), \n",
                "    film.calculate_n_sub(wls), \n",
                "    film.calculate_n_inc(wls), \n",
                "    inc_ang, \n",
                ")\n",
                "grad_gt = 8 * jacobian_gt[:wls.shape[0], :].T * (spec_gt[:wls.shape[0]] - 0.5)\n",
                "\n",
                "print('gt: analytic')\n",
                "print(grad_gt.sum(-1))\n",
                "\n",
                "grad_diff = np.zeros(film.get_layer_number())\n",
                "for i in range(film.get_layer_number()):\n",
                "    d_original = film.get_d().copy()\n",
                "    d = d_original.copy()\n",
                "    d[i] += 1e-5\n",
                "    film.update_d(d)\n",
                "    spec_gt_var = np.zeros((wls.shape[0] * 2))\n",
                "    get_spectrum_free(\n",
                "        spec_gt_var, \n",
                "        wls, \n",
                "        film.get_d(), \n",
                "        film.calculate_n_array(wls), \n",
                "        film.calculate_n_sub(wls), \n",
                "        film.calculate_n_inc(wls), \n",
                "        inc_ang, \n",
                "    )\n",
                "    film.update_d(d_original)\n",
                "    grad_diff[i] = (np.square(spec_gt_var - 0.5).sum() - np.square(spec_gt - 0.5).sum()) / 1e-5\n",
                "print('gt: diff')\n",
                "print(grad_diff)\n",
                "\n",
                "print('autograd')\n",
                "print(2 * jacobi)"
            ]
        },
        {
            "cell_type": "code",
            "execution_count": 199,
            "metadata": {},
            "outputs": [
                {
                    "data": {
                        "text/plain": [
                            "[<matplotlib.lines.Line2D at 0x7f4ee0d94910>]"
                        ]
                    },
                    "execution_count": 199,
                    "metadata": {},
                    "output_type": "execute_result"
                },
                {
                    "data": {
                        "image/png": "[encoded data removed]",
                        "text/plain": [
                            "<Figure size 640x480 with 1 Axes>"
                        ]
                    },
                    "metadata": {},
                    "output_type": "display_data"
                }
            ],
            "source": [
                "import matplotlib.pyplot as plt\n",
                "plt.plot(spec_gt)\n",
                "r = (E[:, 1] / E[:, 0]).abs().square().cpu().detach()\n",
                "plt.plot(r[:wls.shape[0]] * 0.5 + r[wls.shape[0]:] * 0.5)"
            ]
        },
        {
            "cell_type": "markdown",
            "metadata": {},
            "source": [
                "# test ellipsometry"
            ]
        },
        {
            "cell_type": "code",
            "execution_count": 122,
            "metadata": {},
            "outputs": [
                {
                    "data": {
                        "image/png": "[encoded data removed]",
                        "text/plain": [
                            "<Figure size 500x250 with 2 Axes>"
                        ]
                    },
                    "metadata": {},
                    "output_type": "display_data"
                }
            ],
            "source": [
                "# set exp \n",
                "wls = np.linspace(500, 1000, 500)\n",
                "inc_ang = 45.\n",
                "np.random.seed(0)\n",
                "film = TwoMaterialFilm(2.5, 1.5, 2, np.random.random(20) * 100)\n",
                "d = film.get_d()\n",
                "n_layers, n_sub, n_inc = film.calculate_n_array(wls), film.calculate_n_sub(wls), film.calculate_n_inc(wls)\n",
                "\n",
                "tanpsi = np.arctan(film.get_spec(inc_ang, wls).get_tanPsi())\n",
                "delta = film.get_spec(inc_ang, wls).get_delta()\n",
                "\n",
                "# target spec\n",
                "np.random.seed(10)\n",
                "film_target = TwoMaterialFilm(2.5, 1.5, 2, np.random.random(20) * 1 - 0.5 + film.get_d())\n",
                "E_target = np.zeros((wls.shape[0] * 2, 2), dtype='complex128')\n",
                "get_E_free(\n",
                "    E_target, \n",
                "    wls, \n",
                "    film_target.get_d(), \n",
                "    film_target.calculate_n_array(wls), \n",
                "    film_target.calculate_n_sub(wls), \n",
                "    film_target.calculate_n_inc(wls), \n",
                "    inc_ang, \n",
                ")\n",
                "E_target = torch.tensor(E_target)\n",
                "target_psi = E_to_Psi(E_target)\n",
                "target_edelta = E_to_ephase(E_target)\n",
                "\n",
                "# test spectra\n",
                "fig, ax = plt.subplots(1, 2)\n",
                "ax[0].plot(wls, (target_psi), label='pert')\n",
                "ax[0].plot(wls, np.arctan(tanpsi), label='seed: 0')\n",
                "ax[1].plot(wls, torch.angle(target_edelta), label='pert')\n",
                "ax[1].plot(wls, delta, label='seed: 0')\n",
                "           \n",
                "\n",
                "for axi in ax:\n",
                "    axi.set_xlabel('wl')\n",
                "ax[0].set_ylabel('$\\\\tan \\\\Psi$')\n",
                "ax[1].set_ylabel('$\\\\Delta$')\n",
                "\n",
                "fig.set_size_inches(5, 2.5)\n",
                "fig.tight_layout()\n",
                "\n",
                "# ax[1].set_ylim(1.4, 3)"
            ]
        },
        {
            "cell_type": "code",
            "execution_count": 124,
            "metadata": {},
            "outputs": [
                {
                    "name": "stdout",
                    "output_type": "stream",
                    "text": [
                        "tensor([ 0.3398,  0.4455,  1.2663,  0.8459,  1.6738,  0.8956,  1.3300,  0.5423,\n",
                        "         1.0234,  0.8937,  1.1188,  0.3402,  0.0831,  0.2082,  1.4035,  0.2415,\n",
                        "         1.3148,  0.2546, -0.0771, -0.1744], device='cuda:0',\n",
                        "       dtype=torch.float64)\n",
                        "gt: diff\n",
                        "[ 0.3478693   0.4862589   1.29064801  0.92275299  1.70578992  0.96527025\n",
                        "  1.35683649  0.57975443  1.04575291  0.96077914  1.14090717  0.36124532\n",
                        "  0.08762497  0.2163328   1.42720349  0.25117628  1.33977     0.27639489\n",
                        " -0.07669715 -0.18793774]\n"
                    ]
                }
            ],
            "source": [
                "# autograd grad: tan2psi\n",
                "\n",
                "def loss_fn(E):\n",
                "    e = E_to_R(E) # NOTE: we want psi because tanpsi is not bounded. delta is okay though\n",
                "    dif = e - target_psi.to(e.device)\n",
                "    return dif.abs().square().sum()\n",
                "\n",
                "jacobi_auto = get_jacobi_warpper(loss_fn)\n",
                "jacobi = np.zeros((wls.shape[0] * 4, film.get_d().shape[0], 2, 2))\n",
                "\n",
                "jacobi = jacobi_auto(    \n",
                "    jacobi,\n",
                "    wls,\n",
                "    film.get_d(),\n",
                "    n_layers,\n",
                "    n_sub,\n",
                "    n_inc,\n",
                "    inc_ang,    \n",
                ")\n",
                "\n",
                "print(jacobi)\n",
                "\n",
                "# diff\n",
                "\n",
                "grad_diff = np.zeros(film.get_layer_number())\n",
                "\n",
                "spec_gt = np.zeros((wls.shape[0] * 2, 2), dtype='complex128')\n",
                "get_E_free(\n",
                "    spec_gt, \n",
                "    wls, \n",
                "    film.get_d(), \n",
                "    film.calculate_n_array(wls), \n",
                "    film.calculate_n_sub(wls), \n",
                "    film.calculate_n_inc(wls), \n",
                "    inc_ang, \n",
                ")\n",
                "for i in range(film.get_layer_number()):\n",
                "    d_original = film.get_d().copy()\n",
                "    d = d_original.copy()\n",
                "    d[i] += 1e-5\n",
                "    film.update_d(d)\n",
                "    spec_gt_var = np.zeros((wls.shape[0] * 2, 2), dtype='complex128')\n",
                "    get_E_free(\n",
                "        spec_gt_var, \n",
                "        wls, \n",
                "        film.get_d(), \n",
                "        film.calculate_n_array(wls), \n",
                "        film.calculate_n_sub(wls), \n",
                "        film.calculate_n_inc(wls), \n",
                "        inc_ang, \n",
                "    )\n",
                "    film.update_d(d_original)\n",
                "    grad_diff[i] = (loss_fn(spec_gt_var) - loss_fn(spec_gt)) / 1e-5\n",
                "print('gt: diff')\n",
                "print(grad_diff)\n"
            ]
        },
        {
            "cell_type": "code",
            "execution_count": null,
            "metadata": {},
            "outputs": [],
            "source": []
        }
    ],
    "metadata": {
        "kernelspec": {
            "display_name": "tf_design",
            "language": "python",
            "name": "python3"
        },
        "language_info": {
            "codemirror_mode": {
                "name": "ipython",
                "version": 3
            },
            "file_extension": ".py",
            "mimetype": "text/x-python",
            "name": "python",
            "nbconvert_exporter": "python",
            "pygments_lexer": "ipython3",
            "version": "3.10.12"
        },
        "orig_nbformat": 4
    },
    "nbformat": 4,
    "nbformat_minor": 2
}
