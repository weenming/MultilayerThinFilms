{
 "cells": [
  {
   "cell_type": "code",
   "execution_count": 58,
   "metadata": {},
   "outputs": [
    {
     "name": "stdout",
     "output_type": "stream",
     "text": [
      "The autoreload extension is already loaded. To reload it, use:\n",
      "  %reload_ext autoreload\n"
     ]
    }
   ],
   "source": [
    "%load_ext autoreload\n",
    "%autoreload 2\n",
    "import sys\n",
    "\n",
    "sys.path.append('./../../../../')\n",
    "sys.path.append('./../../../script/')\n",
    "sys.path.append('./')\n",
    "sys.path.append('./designer/script/')\n",
    "\n",
    "from tmm.get_E import get_E_free\n",
    "from tmm.get_jacobi_arb_adjoint import get_jacobi_E_free_form\n",
    "from tmm.get_jacobi_adjoint import get_jacobi_adjoint\n",
    "from film import FreeFormFilm\n",
    "\n",
    "import numpy as np\n",
    "\n"
   ]
  },
  {
   "cell_type": "markdown",
   "metadata": {},
   "source": [
    "# Manual differentiation"
   ]
  },
  {
   "cell_type": "code",
   "execution_count": 4,
   "metadata": {},
   "outputs": [
    {
     "name": "stderr",
     "output_type": "stream",
     "text": [
      "/home/vipuser/miniconda3/envs/tf_design/lib/python3.10/site-packages/numba/cuda/dispatcher.py:488: NumbaPerformanceWarning: Grid size 1 will likely result in GPU under-utilization due to low occupancy.\n",
      "  warn(NumbaPerformanceWarning(msg))\n",
      "/home/vipuser/miniconda3/envs/tf_design/lib/python3.10/site-packages/numba/cuda/dispatcher.py:488: NumbaPerformanceWarning: Grid size 1 will likely result in GPU under-utilization due to low occupancy.\n",
      "  warn(NumbaPerformanceWarning(msg))\n"
     ]
    }
   ],
   "source": [
    "\n",
    "wls = np.linspace(500, 1000, 3)\n",
    "inc_ang = 0.\n",
    "np.random.seed(0)\n",
    "film = FreeFormFilm(np.random.random(4) * 1 + 1.5, 1000, 1)\n",
    "jacobian = np.zeros((wls.shape[0] * 4, film.get_d().shape[0], 2, 2), dtype='complex128')\n",
    "\n",
    "get_jacobi_E_free_form(\n",
    "    jacobian, wls, film.get_d(), \n",
    "    film.calculate_n_array(wls), \n",
    "    film.calculate_n_sub(wls), \n",
    "    film.calculate_n_inc(wls), \n",
    "    inc_ang, \n",
    ")\n",
    "\n",
    "E = np.zeros((wls.shape[0] * 2, 2), dtype='complex128')\n",
    "get_E_free(E, wls, film.get_d(), \n",
    "    film.calculate_n_array(wls), \n",
    "    film.calculate_n_sub(wls), \n",
    "    film.calculate_n_inc(wls), \n",
    "    inc_ang, \n",
    ")\n",
    "\n",
    "\n",
    "jacobian_gt = np.zeros((wls.shape[0] * 2, film.get_d().shape[0]))\n",
    "get_jacobi_adjoint(\n",
    "    jacobian_gt, wls, film.get_d(), \n",
    "    film.calculate_n_array(wls), \n",
    "    film.calculate_n_sub(wls), \n",
    "    film.calculate_n_inc(wls), \n",
    "    inc_ang, \n",
    ")\n"
   ]
  },
  {
   "cell_type": "code",
   "execution_count": 59,
   "metadata": {},
   "outputs": [
    {
     "ename": "RuntimeError",
     "evalue": "Index put requires the source and destination dtypes match, got Double for the destination and ComplexDouble for the source.",
     "output_type": "error",
     "traceback": [
      "\u001b[0;31m---------------------------------------------------------------------------\u001b[0m",
      "\u001b[0;31mRuntimeError\u001b[0m                              Traceback (most recent call last)",
      "Cell \u001b[0;32mIn[59], line 22\u001b[0m\n\u001b[1;32m     18\u001b[0m jacobi_auto \u001b[39m=\u001b[39m get_jacobi_warpper(loss_fn)\n\u001b[1;32m     19\u001b[0m jacobi \u001b[39m=\u001b[39m np\u001b[39m.\u001b[39mzeros((wls\u001b[39m.\u001b[39mshape[\u001b[39m0\u001b[39m] \u001b[39m*\u001b[39m \u001b[39m4\u001b[39m, d\u001b[39m.\u001b[39mshape[\u001b[39m0\u001b[39m], \u001b[39m2\u001b[39m, \u001b[39m2\u001b[39m))\n\u001b[0;32m---> 22\u001b[0m jacobi \u001b[39m=\u001b[39m jacobi_auto(    \n\u001b[1;32m     23\u001b[0m     jacobi,\n\u001b[1;32m     24\u001b[0m     wls,\n\u001b[1;32m     25\u001b[0m     d,\n\u001b[1;32m     26\u001b[0m     n_layers,\n\u001b[1;32m     27\u001b[0m     n_sub,\n\u001b[1;32m     28\u001b[0m     n_inc,\n\u001b[1;32m     29\u001b[0m     inc_ang,    \n\u001b[1;32m     30\u001b[0m )\n",
      "File \u001b[0;32m~/Thin-Film-Design/designer/tests/test_code/test_TFNN/./../../../script/tmm/autograd_wrapper.py:32\u001b[0m, in \u001b[0;36mget_jacobi_warpper.<locals>.get_jacobi_y_wrt_x_free_form\u001b[0;34m(*args, **kwargs)\u001b[0m\n\u001b[1;32m     28\u001b[0m E \u001b[39m=\u001b[39m torch\u001b[39m.\u001b[39mtensor(E, device\u001b[39m=\u001b[39mdevice, requires_grad\u001b[39m=\u001b[39m\u001b[39mTrue\u001b[39;00m)\n\u001b[1;32m     29\u001b[0m jacobi_y_wrt_E \u001b[39m=\u001b[39m torch\u001b[39m.\u001b[39mautograd\u001b[39m.\u001b[39mgrad(E_to_loss(E), E)\n\u001b[0;32m---> 32\u001b[0m jacobi_M_wrt_x \u001b[39m=\u001b[39m partial_M_wrt_x(\u001b[39m*\u001b[39;49margs_torch, \u001b[39m*\u001b[39;49m\u001b[39m*\u001b[39;49mkwargs)\n\u001b[1;32m     34\u001b[0m jacobi_y_wrt_x \u001b[39m=\u001b[39m jacobi_y_wrt_E\u001b[39m.\u001b[39mreshape(\u001b[39m-\u001b[39m\u001b[39m1\u001b[39m, \u001b[39m1\u001b[39m, \u001b[39m1\u001b[39m, \u001b[39m1\u001b[39m) \u001b[39m*\u001b[39m jacobi_E_wrt_M\n\u001b[1;32m     35\u001b[0m jacobi_y_wrt_x \u001b[39m=\u001b[39m (jacobi_y_wrt_x \u001b[39m*\u001b[39m jacobi_M_wrt_x)\u001b[39m.\u001b[39msum((\u001b[39m0\u001b[39m, \u001b[39m-\u001b[39m\u001b[39m1\u001b[39m, \u001b[39m-\u001b[39m\u001b[39m2\u001b[39m))\n",
      "File \u001b[0;32m~/Thin-Film-Design/designer/tests/test_code/test_TFNN/./../../../script/tmm/autograd_wrapper.py:63\u001b[0m, in \u001b[0;36mget_partial_M_wrt_d\u001b[0;34m(jacobi, wls, d, n_layers, n_sub, n_inc, inc_ang)\u001b[0m\n\u001b[1;32m     60\u001b[0m jacobi \u001b[39m=\u001b[39m torch\u001b[39m.\u001b[39mzeros_like(jacobi)\n\u001b[1;32m     62\u001b[0m s_idx \u001b[39m=\u001b[39m torch\u001b[39m.\u001b[39mhstack((torch\u001b[39m.\u001b[39marange(wls\u001b[39m.\u001b[39mshape[\u001b[39m0\u001b[39m]), torch\u001b[39m.\u001b[39marange(\u001b[39m2\u001b[39m \u001b[39m*\u001b[39m wls\u001b[39m.\u001b[39mshape[\u001b[39m0\u001b[39m], \u001b[39m3\u001b[39m \u001b[39m*\u001b[39m wls\u001b[39m.\u001b[39mshape[\u001b[39m0\u001b[39m])))\n\u001b[0;32m---> 63\u001b[0m jacobi[s_idx, :, \u001b[39m0\u001b[39;49m, \u001b[39m0\u001b[39;49m] \u001b[39m=\u001b[39m (\u001b[39m2\u001b[39m \u001b[39m*\u001b[39m np\u001b[39m.\u001b[39mpi \u001b[39m*\u001b[39m \u001b[39m1\u001b[39mj \u001b[39m*\u001b[39m n_layers \u001b[39m*\u001b[39m cos \u001b[39m/\u001b[39m wls \u001b[39m*\u001b[39m sinhi)\u001b[39m.\u001b[39mrepeat(\u001b[39m2\u001b[39m, \u001b[39m1\u001b[39m)\n\u001b[1;32m     64\u001b[0m jacobi[s_idx, :, \u001b[39m0\u001b[39m, \u001b[39m1\u001b[39m] \u001b[39m=\u001b[39m (\u001b[39m2\u001b[39m \u001b[39m*\u001b[39m np\u001b[39m.\u001b[39mpi \u001b[39m*\u001b[39m \u001b[39m1\u001b[39mj \u001b[39m/\u001b[39m wls \u001b[39m*\u001b[39m coshi)\u001b[39m.\u001b[39mrepeat(\u001b[39m2\u001b[39m, \u001b[39m1\u001b[39m)\n\u001b[1;32m     65\u001b[0m jacobi[s_idx, :, \u001b[39m1\u001b[39m, \u001b[39m0\u001b[39m] \u001b[39m=\u001b[39m (\u001b[39m2\u001b[39m \u001b[39m*\u001b[39m np\u001b[39m.\u001b[39mpi \u001b[39m*\u001b[39m \u001b[39m1\u001b[39mj \u001b[39m*\u001b[39m n_layers\u001b[39m.\u001b[39msquare() \u001b[39m*\u001b[39m cos\u001b[39m.\u001b[39msquare() \u001b[39m/\u001b[39m wls \u001b[39m*\u001b[39m coshi)\u001b[39m.\u001b[39mrepeat(\u001b[39m2\u001b[39m, \u001b[39m1\u001b[39m)\n",
      "\u001b[0;31mRuntimeError\u001b[0m: Index put requires the source and destination dtypes match, got Double for the destination and ComplexDouble for the source."
     ]
    }
   ],
   "source": [
    "# autograd\n",
    "from tmm.autograd_wrapper import *\n",
    "from tmm.E_to_spectrum import E_to_R, E_to_tan2Psi\n",
    "\n",
    "# set exp \n",
    "wls = np.linspace(500, 1000, 500)\n",
    "film = FreeFormFilm(np.random.rand(20) * 1 + 1.5, 1000, 2)\n",
    "d = film.get_d()\n",
    "n_layers, n_sub, n_inc = film.calculate_n_array(wls), film.calculate_n_sub(wls), film.calculate_n_inc(wls)\n",
    "\n",
    "\n",
    "# objective: 0.5\n",
    "def loss_fn(E):\n",
    "    e = E_to_R(E)\n",
    "    dif = e - (torch.ones_like(e) - 0.5)\n",
    "    return dif.square().sum()\n",
    "\n",
    "jacobi_auto = get_jacobi_warpper(loss_fn)\n",
    "jacobi = np.zeros((wls.shape[0] * 4, d.shape[0], 2, 2))\n",
    "\n",
    "\n",
    "jacobi = jacobi_auto(    \n",
    "    jacobi,\n",
    "    wls,\n",
    "    d,\n",
    "    n_layers,\n",
    "    n_sub,\n",
    "    n_inc,\n",
    "    inc_ang,    \n",
    ")\n",
    "\n"
   ]
  },
  {
   "cell_type": "code",
   "execution_count": null,
   "metadata": {},
   "outputs": [],
   "source": []
  }
 ],
 "metadata": {
  "kernelspec": {
   "display_name": "tf_design",
   "language": "python",
   "name": "python3"
  },
  "language_info": {
   "codemirror_mode": {
    "name": "ipython",
    "version": 3
   },
   "file_extension": ".py",
   "mimetype": "text/x-python",
   "name": "python",
   "nbconvert_exporter": "python",
   "pygments_lexer": "ipython3",
   "version": "3.10.12"
  },
  "orig_nbformat": 4
 },
 "nbformat": 4,
 "nbformat_minor": 2
}
