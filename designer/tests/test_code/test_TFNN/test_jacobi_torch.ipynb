{
 "cells": [
  {
   "cell_type": "code",
   "execution_count": 2,
   "metadata": {},
   "outputs": [
    {
     "name": "stdout",
     "output_type": "stream",
     "text": [
      "The autoreload extension is already loaded. To reload it, use:\n",
      "  %reload_ext autoreload\n"
     ]
    }
   ],
   "source": [
    "%load_ext autoreload\n",
    "%autoreload 2\n",
    "import sys\n",
    "\n",
    "sys.path.append('./../../../../')\n",
    "sys.path.append('./../../../script/')\n",
    "sys.path.append('./')\n",
    "sys.path.append('./designer/script/')\n",
    "\n",
    "from tmm.get_E import get_E_free\n",
    "from tmm.get_jacobi_arb_adjoint import get_jacobi_E_free_form\n",
    "from tmm.get_jacobi_adjoint import get_jacobi_adjoint\n",
    "from film import FreeFormFilm\n",
    "\n",
    "import numpy as np\n",
    "\n"
   ]
  },
  {
   "cell_type": "markdown",
   "metadata": {},
   "source": [
    "# Manual differentiation"
   ]
  },
  {
   "cell_type": "code",
   "execution_count": 4,
   "metadata": {},
   "outputs": [
    {
     "name": "stderr",
     "output_type": "stream",
     "text": [
      "/home/vipuser/miniconda3/envs/tf_design/lib/python3.10/site-packages/numba/cuda/dispatcher.py:488: NumbaPerformanceWarning: Grid size 1 will likely result in GPU under-utilization due to low occupancy.\n",
      "  warn(NumbaPerformanceWarning(msg))\n",
      "/home/vipuser/miniconda3/envs/tf_design/lib/python3.10/site-packages/numba/cuda/dispatcher.py:488: NumbaPerformanceWarning: Grid size 1 will likely result in GPU under-utilization due to low occupancy.\n",
      "  warn(NumbaPerformanceWarning(msg))\n"
     ]
    }
   ],
   "source": [
    "\n",
    "wls = np.linspace(500, 1000, 3)\n",
    "inc_ang = 0.\n",
    "np.random.seed(0)\n",
    "film = FreeFormFilm(np.random.random(4) * 1 + 1.5, 1000, 1)\n",
    "jacobian = np.zeros((wls.shape[0] * 4, film.get_d().shape[0], 2, 2), dtype='complex128')\n",
    "\n",
    "get_jacobi_E_free_form(\n",
    "    jacobian, wls, film.get_d(), \n",
    "    film.calculate_n_array(wls), \n",
    "    film.calculate_n_sub(wls), \n",
    "    film.calculate_n_inc(wls), \n",
    "    inc_ang, \n",
    ")\n",
    "\n",
    "E = np.zeros((wls.shape[0] * 2, 2), dtype='complex128')\n",
    "get_E_free(E, wls, film.get_d(), \n",
    "    film.calculate_n_array(wls), \n",
    "    film.calculate_n_sub(wls), \n",
    "    film.calculate_n_inc(wls), \n",
    "    inc_ang, \n",
    ")\n",
    "\n",
    "\n",
    "jacobian_gt = np.zeros((wls.shape[0] * 2, film.get_d().shape[0]))\n",
    "get_jacobi_adjoint(\n",
    "    jacobian_gt, wls, film.get_d(), \n",
    "    film.calculate_n_array(wls), \n",
    "    film.calculate_n_sub(wls), \n",
    "    film.calculate_n_inc(wls), \n",
    "    inc_ang, \n",
    ")\n"
   ]
  },
  {
   "cell_type": "code",
   "execution_count": null,
   "metadata": {},
   "outputs": [],
   "source": [
    "# autograd\n",
    "\n"
   ]
  }
 ],
 "metadata": {
  "kernelspec": {
   "display_name": "tf_design",
   "language": "python",
   "name": "python3"
  },
  "language_info": {
   "codemirror_mode": {
    "name": "ipython",
    "version": 3
   },
   "file_extension": ".py",
   "mimetype": "text/x-python",
   "name": "python",
   "nbconvert_exporter": "python",
   "pygments_lexer": "ipython3",
   "version": "3.10.12"
  },
  "orig_nbformat": 4
 },
 "nbformat": 4,
 "nbformat_minor": 2
}
