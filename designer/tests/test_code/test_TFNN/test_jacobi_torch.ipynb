{
 "cells": [
  {
   "cell_type": "code",
   "execution_count": 274,
   "metadata": {},
   "outputs": [
    {
     "name": "stdout",
     "output_type": "stream",
     "text": [
      "The autoreload extension is already loaded. To reload it, use:\n",
      "  %reload_ext autoreload\n"
     ]
    }
   ],
   "source": [
    "%load_ext autoreload\n",
    "%autoreload 2\n",
    "import sys\n",
    "\n",
    "sys.path.append('./../../../../')\n",
    "sys.path.append('./../../../script/')\n",
    "sys.path.append('./')\n",
    "sys.path.append('./designer/script/')\n",
    "\n",
    "from tmm.get_E import get_E_free\n",
    "from tmm.get_jacobi_arb_adjoint import get_jacobi_E_free_form\n",
    "from tmm.get_jacobi_adjoint import get_jacobi_adjoint\n",
    "from tmm.get_spectrum import get_spectrum_free\n",
    "from film import FreeFormFilm\n",
    "\n",
    "import numpy as np\n",
    "\n"
   ]
  },
  {
   "cell_type": "markdown",
   "metadata": {},
   "source": [
    "# Manual differentiation"
   ]
  },
  {
   "cell_type": "code",
   "execution_count": 2,
   "metadata": {},
   "outputs": [
    {
     "name": "stderr",
     "output_type": "stream",
     "text": [
      "/home/vipuser/miniconda3/envs/tf_design/lib/python3.10/site-packages/numba/cuda/dispatcher.py:488: NumbaPerformanceWarning: Grid size 1 will likely result in GPU under-utilization due to low occupancy.\n",
      "  warn(NumbaPerformanceWarning(msg))\n",
      "/home/vipuser/miniconda3/envs/tf_design/lib/python3.10/site-packages/numba/cuda/dispatcher.py:488: NumbaPerformanceWarning: Grid size 1 will likely result in GPU under-utilization due to low occupancy.\n",
      "  warn(NumbaPerformanceWarning(msg))\n",
      "/home/vipuser/miniconda3/envs/tf_design/lib/python3.10/site-packages/numba/cuda/dispatcher.py:488: NumbaPerformanceWarning: Grid size 1 will likely result in GPU under-utilization due to low occupancy.\n",
      "  warn(NumbaPerformanceWarning(msg))\n"
     ]
    }
   ],
   "source": [
    "\n",
    "wls = np.linspace(500, 1000, 3)\n",
    "inc_ang = 0.\n",
    "np.random.seed(0)\n",
    "film = FreeFormFilm(np.random.random(4) * 1 + 1.5, 1000, 1)\n",
    "jacobian = np.zeros((wls.shape[0] * 4, film.get_d().shape[0], 2, 2), dtype='complex128')\n",
    "\n",
    "get_jacobi_E_free_form(\n",
    "    jacobian, wls, film.get_d(), \n",
    "    film.calculate_n_array(wls), \n",
    "    film.calculate_n_sub(wls), \n",
    "    film.calculate_n_inc(wls), \n",
    "    inc_ang, \n",
    ")\n",
    "\n",
    "E = np.zeros((wls.shape[0] * 2, 2), dtype='complex128')\n",
    "get_E_free(E, wls, film.get_d(), \n",
    "    film.calculate_n_array(wls), \n",
    "    film.calculate_n_sub(wls), \n",
    "    film.calculate_n_inc(wls), \n",
    "    inc_ang, \n",
    ")\n",
    "\n",
    "\n",
    "jacobian_gt = np.zeros((wls.shape[0] * 2, film.get_d().shape[0]))\n",
    "get_jacobi_adjoint(\n",
    "    jacobian_gt, wls, film.get_d(), \n",
    "    film.calculate_n_array(wls), \n",
    "    film.calculate_n_sub(wls), \n",
    "    film.calculate_n_inc(wls), \n",
    "    inc_ang, \n",
    ")\n"
   ]
  },
  {
   "cell_type": "code",
   "execution_count": 286,
   "metadata": {},
   "outputs": [],
   "source": [
    "# autograd\n",
    "from tmm.autograd_wrapper import *\n",
    "from tmm.E_to_spectrum import E_to_R, E_to_tan2Psi\n",
    "\n",
    "# set exp \n",
    "wls = np.linspace(500, 1000, 500)\n",
    "inc_ang = 0.\n",
    "np.random.seed(0)\n",
    "film = FreeFormFilm(np.random.rand(20) * 1 + 1.5, 1000, 2)\n",
    "d = film.get_d()\n",
    "n_layers, n_sub, n_inc = film.calculate_n_array(wls), film.calculate_n_sub(wls), film.calculate_n_inc(wls)\n",
    "\n",
    "\n",
    "# objective: 0.5\n",
    "def loss_fn(E):\n",
    "    e = E_to_R(E)\n",
    "    dif = e - 0.5\n",
    "    return dif.square().sum()\n",
    "\n",
    "jacobi_auto = get_jacobi_warpper(loss_fn)\n",
    "jacobi = np.zeros((wls.shape[0] * 4, d.shape[0], 2, 2))\n",
    "\n",
    "\n",
    "em = jacobi_auto(    \n",
    "    jacobi,\n",
    "    wls,\n",
    "    d,\n",
    "    n_layers,\n",
    "    n_sub,\n",
    "    n_inc,\n",
    "    inc_ang,    \n",
    ")\n",
    "\n",
    "E_gt = np.zeros((wls.shape[0] * 2, 2), dtype='complex128')\n",
    "get_E_free(\n",
    "    E_gt, \n",
    "    wls, \n",
    "    film.get_d(), \n",
    "    film.calculate_n_array(wls), \n",
    "    film.calculate_n_sub(wls), \n",
    "    film.calculate_n_inc(wls), \n",
    "    inc_ang, \n",
    ")\n",
    "\n"
   ]
  },
  {
   "cell_type": "code",
   "execution_count": 306,
   "metadata": {},
   "outputs": [
    {
     "name": "stdout",
     "output_type": "stream",
     "text": [
      "tensor(0.0409, dtype=torch.float64)\n",
      "tensor(0.0409+0.0594j, device='cuda:0', dtype=torch.complex128)\n",
      "tensor([-0.0933+1.9877e+00j, -0.2249+2.1689e+00j, -0.2521+2.0183e+00j,\n",
      "        -0.2721+1.9637e+00j, -0.2492+1.9251e+00j, -0.4360+2.1237e+00j,\n",
      "        -0.3975+1.7071e+00j, -0.0777+1.9350e+00j, -0.1119+1.9562e+00j,\n",
      "        -0.1076+1.3246e+00j, -0.1615+1.5216e+00j, -0.1407+1.2039e+00j,\n",
      "        -0.1182+1.2150e+00j, -0.2945+1.1512e+00j,  0.0277+2.7800e-01j,\n",
      "         0.0348+2.8819e-01j,  0.0028+2.9117e-01j,  0.0022-2.0322e-03j,\n",
      "         0.0198-5.2249e-03j,  0.0265+1.2338e-02j], device='cuda:0',\n",
      "       dtype=torch.complex128)\n",
      "[-3.82765330e+00-2.22347675e+00j -3.77475828e-10-1.61676228e-09j]\n",
      "tensor(-0.0933, dtype=torch.float64)\n"
     ]
    }
   ],
   "source": [
    "# print(y_wrt_E) tested!\n",
    "# M_wrt_x tested\n",
    "# E_wrt_M, too\n",
    "\n",
    "E = torch.tensor(E_gt, requires_grad=True, device='cuda')\n",
    "jacobi_y_wrt_E = torch.autograd.grad(loss_fn(E), E)[0].t() # t for correct subsequent reshape\n",
    "\n",
    "loss_old = loss_fn(torch.tensor(E_gt))\n",
    "E_new = E_gt.copy()\n",
    "E_new[0, 0] += 1e-5\n",
    "loss_new = loss_fn(torch.tensor(E_new))\n",
    "print((loss_new - loss_old) * 1e5)\n",
    "print(jacobi_y_wrt_E[0, 0])\n",
    "\n",
    "print((em * jacobi_y_wrt_E.reshape(-1, 1, 1, 1).conj()).sum((0, -1, -2)))\n",
    "\n",
    "E_gt = np.zeros((wls.shape[0] * 2, 2), dtype='complex128')\n",
    "get_E_free(\n",
    "    E_gt, \n",
    "    wls, \n",
    "    film.get_d(), \n",
    "    film.calculate_n_array(wls), \n",
    "    film.calculate_n_sub(wls), \n",
    "    film.calculate_n_inc(wls), \n",
    "    inc_ang, \n",
    ")\n",
    "E_gt_n = np.zeros((wls.shape[0] * 2, 2), dtype='complex128')\n",
    "d_old = film.get_d().copy()\n",
    "d = d_old.copy()\n",
    "d[0] += 1e-5\n",
    "film.update_d(d)\n",
    "get_E_free(\n",
    "    E_gt_n, \n",
    "    wls, \n",
    "    film.get_d(), \n",
    "    film.calculate_n_array(wls), \n",
    "    film.calculate_n_sub(wls), \n",
    "    film.calculate_n_inc(wls), \n",
    "    inc_ang, \n",
    ")\n",
    "film.update_d(d_old)\n",
    "print((E_gt_n - E_gt).sum(0) * 1e5)\n",
    "\n",
    "print((loss_fn(torch.tensor(E_gt_n)) - loss_fn(torch.tensor(E_gt))) * 1e5)\n"
   ]
  },
  {
   "cell_type": "code",
   "execution_count": 243,
   "metadata": {},
   "outputs": [
    {
     "name": "stdout",
     "output_type": "stream",
     "text": [
      "[-0.18651694 -0.4498943  -0.50426269 -0.54413743 -0.49837391 -0.87196827\n",
      " -0.79494945 -0.15538778 -0.22385335 -0.21511829 -0.32309645 -0.28143111\n",
      " -0.23636326 -0.58895753  0.05537844  0.06955902  0.00564243  0.00432891\n",
      "  0.03958944  0.05298165]\n",
      "[-0.18651684 -0.44989419 -0.5042626  -0.54413735 -0.49837383 -0.87196819\n",
      " -0.79494941 -0.15538768 -0.22385325 -0.21511824 -0.32309643 -0.2814311\n",
      " -0.23636324 -0.58895747  0.05537848  0.06955906  0.00564246  0.0043289\n",
      "  0.03958943  0.05298165]\n",
      "tensor([-1.9258-1.2633j, -2.0027-1.4059j, -1.8568-1.3194j, -1.7499-1.3190j,\n",
      "        -1.8022-1.3150j, -1.7779-1.7406j, -1.2350-1.4286j, -1.6534-0.9036j,\n",
      "        -1.6112-0.9587j, -0.8901-0.5629j, -0.8722-0.6035j, -0.5447-0.4145j,\n",
      "        -0.5661-0.3645j, -0.0153-0.5337j,  0.6192+0.4955j,  0.6076+0.5088j,\n",
      "         0.5932+0.4157j,  1.5155+1.3733j,  1.4307+1.3913j,  1.3647+1.3701j],\n",
      "       device='cuda:0', dtype=torch.complex128)\n"
     ]
    }
   ],
   "source": [
    "jacobian_gt = np.zeros((wls.shape[0] * 2, film.get_d().shape[0]))\n",
    "get_jacobi_adjoint(\n",
    "    jacobian_gt, wls, film.get_d(), \n",
    "    film.calculate_n_array(wls), \n",
    "    film.calculate_n_sub(wls), \n",
    "    film.calculate_n_inc(wls), \n",
    "    inc_ang, \n",
    ")\n",
    "spec_gt = np.zeros((wls.shape[0] * 2))\n",
    "get_spectrum_free(\n",
    "    spec_gt, \n",
    "    wls, \n",
    "    film.get_d(), \n",
    "    film.calculate_n_array(wls), \n",
    "    film.calculate_n_sub(wls), \n",
    "    film.calculate_n_inc(wls), \n",
    "    inc_ang, \n",
    ")\n",
    "grad_gt = 8 * jacobian_gt[:wls.shape[0], :].T * (spec_gt[:wls.shape[0]] - 0.5)\n",
    "\n",
    "print(grad_gt.sum(-1))\n",
    "\n",
    "grad_diff = np.zeros(film.get_layer_number())\n",
    "for i in range(film.get_layer_number()):\n",
    "    d_original = film.get_d().copy()\n",
    "    d = d_original.copy()\n",
    "    d[i] += 1e-5\n",
    "    film.update_d(d)\n",
    "    spec_gt_var = np.zeros((wls.shape[0] * 2))\n",
    "    get_spectrum_free(\n",
    "        spec_gt_var, \n",
    "        wls, \n",
    "        film.get_d(), \n",
    "        film.calculate_n_array(wls), \n",
    "        film.calculate_n_sub(wls), \n",
    "        film.calculate_n_inc(wls), \n",
    "        inc_ang, \n",
    "    )\n",
    "    film.update_d(d_original)\n",
    "    grad_diff[i] = (np.square(spec_gt_var - 0.5).sum() - np.square(spec_gt - 0.5).sum()) / 1e-5\n",
    "print(grad_diff)\n",
    "\n",
    "print(-2 * jacobi)"
   ]
  },
  {
   "cell_type": "code",
   "execution_count": 199,
   "metadata": {},
   "outputs": [
    {
     "data": {
      "text/plain": [
       "[<matplotlib.lines.Line2D at 0x7f4ee0d94910>]"
      ]
     },
     "execution_count": 199,
     "metadata": {},
     "output_type": "execute_result"
    },
    {
     "data": {
      "image/png": "[encoded data removed]",
      "text/plain": [
       "<Figure size 640x480 with 1 Axes>"
      ]
     },
     "metadata": {},
     "output_type": "display_data"
    }
   ],
   "source": [
    "import matplotlib.pyplot as plt\n",
    "plt.plot(spec_gt)\n",
    "r = (E[:, 1] / E[:, 0]).abs().square().cpu().detach()\n",
    "plt.plot(r[:wls.shape[0]] * 0.5 + r[wls.shape[0]:] * 0.5)"
   ]
  },
  {
   "cell_type": "code",
   "execution_count": null,
   "metadata": {},
   "outputs": [],
   "source": []
  }
 ],
 "metadata": {
  "kernelspec": {
   "display_name": "tf_design",
   "language": "python",
   "name": "python3"
  },
  "language_info": {
   "codemirror_mode": {
    "name": "ipython",
    "version": 3
   },
   "file_extension": ".py",
   "mimetype": "text/x-python",
   "name": "python",
   "nbconvert_exporter": "python",
   "pygments_lexer": "ipython3",
   "version": "3.10.12"
  },
  "orig_nbformat": 4
 },
 "nbformat": 4,
 "nbformat_minor": 2
}
